{
 "cells": [
  {
   "cell_type": "code",
   "execution_count": null,
   "metadata": {},
   "outputs": [],
   "source": [
    "import matplotlib.patches as mpatches\n",
    "import numpy as np\n",
    "import os\n",
    "import math\n",
    "import matplotlib.pyplot as plt\n",
    "%matplotlib inline  "
   ]
  },
  {
   "cell_type": "code",
   "execution_count": null,
   "metadata": {},
   "outputs": [],
   "source": [
    "params = {\n",
    "   'axes.labelsize': 12,\n",
    "   'font.size': 10,\n",
    "   'legend.fontsize': 12,\n",
    "   'xtick.labelsize': 12,\n",
    "   'ytick.labelsize': 12,\n",
    "   'text.usetex': False,\n",
    "   'figure.figsize': [7, 2] # instead of 4.5, 4.5\n",
    "   }\n",
    "plt.rcParams.update(params)"
   ]
  },
  {
   "cell_type": "markdown",
   "metadata": {},
   "source": [
    "## helper function"
   ]
  },
  {
   "cell_type": "code",
   "execution_count": null,
   "metadata": {},
   "outputs": [],
   "source": [
    "def autolabel(rects, ses):\n",
    "    # attach some text labels\n",
    "    for rect, se in zip(rects, ses):\n",
    "        height = rect.get_height()\n",
    "        plt.axes().text(rect.get_x()+rect.get_width()/2., height+1.03*se, '{:2.3f}'.format(float(height)).lstrip('0'),\n",
    "                ha='center', va='bottom',fontsize=10)"
   ]
  },
  {
   "cell_type": "markdown",
   "metadata": {},
   "source": [
    "## Fixed Parameter"
   ]
  },
  {
   "cell_type": "code",
   "execution_count": null,
   "metadata": {},
   "outputs": [],
   "source": [
    "# experiment\n",
    "exp = 'corr'\n",
    "exp_label = 'Pearson Correlation Between Two Subject Groups'\n",
    "\n",
    "# dictionaries\n",
    "cl_dict = {0:2/450,1:2/297,2:2/297,3:2/1973} # chance level of each dataset\n",
    "nfeat = 75\n",
    "\n",
    "ds_dict = {0:'GreenEyes',1:'Milky',2:'Vodka',3:'Sherlock'}\n",
    "model_all = ['avg','indv_srm','indv_srm']\n",
    "accu_type = ['sep_','sep_','tgr_']\n",
    "lg_lb  = ['MNI','Train Separately','Train Together'] # legend label\n",
    "\n",
    "# paths\n",
    "input_file = '../../output/accu_bar/{}/{}/{}_ds{}.npz' #exp,roi,model,ds\n",
    "output_path = '../../output/figures/{}/' #exp\n",
    "if not os.path.exists(output_path.format(exp)):\n",
    "    os.makedirs(output_path.format(exp))\n",
    "output_file = output_path+'ds{}' #ds"
   ]
  },
  {
   "cell_type": "markdown",
   "metadata": {},
   "source": [
    "## Plotting Parameter"
   ]
  },
  {
   "cell_type": "code",
   "execution_count": null,
   "metadata": {},
   "outputs": [],
   "source": [
    "roi_all = ['dmn','pt','eac']\n",
    "max_accu = 1.2\n",
    "ds = 3"
   ]
  },
  {
   "cell_type": "markdown",
   "metadata": {},
   "source": [
    "## Aggregate Accuracy"
   ]
  },
  {
   "cell_type": "code",
   "execution_count": null,
   "metadata": {},
   "outputs": [],
   "source": [
    "# Accuracies\n",
    "all_mean = [] # length # of roi\n",
    "all_se = [] # length # of roi\n",
    "# aggregate each roi\n",
    "for roi in roi_all:\n",
    "    roi_mean = []\n",
    "    roi_se = []\n",
    "    for model,ac_tp in zip(model_all,accu_type):\n",
    "        ws=np.load(input_file.format(exp,roi,model,ds))\n",
    "        roi_mean.append(ws[ac_tp+'mean'])\n",
    "        roi_se.append(ws[ac_tp+'se'])\n",
    "    all_mean.append(roi_mean)\n",
    "    all_se.append(roi_se)"
   ]
  },
  {
   "cell_type": "markdown",
   "metadata": {},
   "source": [
    "## Plot all roi"
   ]
  },
  {
   "cell_type": "code",
   "execution_count": null,
   "metadata": {},
   "outputs": [],
   "source": [
    "width=1\n",
    "nmodel = 3\n",
    "ndata = len(roi_all)\n",
    "group_width = 1.25*width*nmodel\n",
    "center_all = np.linspace(0,group_width*(ndata-1),ndata)\n",
    "# set colors\n",
    "color_all = ['lightgrey','dodgerblue','red']\n",
    "\n",
    "\n",
    "xtick_idx = []\n",
    "xtick_name = []\n",
    "plt.figure()\n",
    "for m,(roi, center) in enumerate(zip(roi_all,center_all)):\n",
    "    mean = all_mean[m]\n",
    "    se   = all_se[m]  \n",
    "    idx = np.arange(center,center+nmodel*width,width)\n",
    "    error_config = {'ecolor': '0','capsize':3}   \n",
    "    rects = plt.bar(idx, mean, yerr=se, align='center', error_kw=error_config, width = width-0.1)\n",
    "    # set colors\n",
    "    for rect_i in range(len(rects)):\n",
    "        rects[rect_i].set_color(color_all[rect_i])\n",
    "    autolabel(rects, se)\n",
    "    xtick_idx.append(center+(nmodel-1)*width/2)        \n",
    "    xtick_name.append(roi.upper())                                    \n",
    "plt.xticks(xtick_idx,xtick_name)\n",
    "\n",
    "plt.ylabel('Accuracy')\n",
    "plt.xlabel('ROI')\n",
    "left_lim = center_all[0]-0.5*width-0.5\n",
    "right_lim = center_all[-1]+(nmodel-0.5)*width+0.5\n",
    "plt.xlim([left_lim,right_lim])\n",
    "plt.ylim([0,max_accu])\n",
    "\n",
    "# plot chance accuracy\n",
    "cl = cl_dict[ds]\n",
    "line = plt.plot([left_lim, right_lim], [cl, cl], 'k-.', linewidth=2)\n",
    "\n",
    "# Add texts\n",
    "plt.text((right_lim+left_lim)/2, 1.25*max_accu, exp_label,fontsize=12,horizontalalignment='center', verticalalignment='bottom')\n",
    "props = dict(boxstyle='round', facecolor='wheat', alpha=0.5)\n",
    "plt.text(right_lim-0.02*(right_lim-left_lim), 0.92*max_accu, 'k = '+str(nfeat),bbox=props,fontsize=12,horizontalalignment='right', verticalalignment='top')\n",
    "props2 = dict(boxstyle='round', facecolor='wheat', alpha=0.5)\n",
    "plt.text(left_lim+0.02*(right_lim-left_lim), 0.92*max_accu, 'Dataset: '+ds_dict[ds],bbox=props2,fontsize=12,horizontalalignment='left', verticalalignment='top')\n",
    "\n",
    "# legend\n",
    "legend_handle = []\n",
    "for patch_i in range(3):\n",
    "    legend_handle.append(mpatches.Patch(color=color_all[patch_i], label=lg_lb[patch_i]))    \n",
    "l1 = plt.legend(handles=legend_handle,bbox_to_anchor=(0.,1.02,1.,.102), loc=3,ncol=3,mode=\"expand\", borderaxespad=0.)\n",
    "ax = plt.gca().add_artist(l1)\n",
    "plt.legend(line ,['chance'],loc=9,ncol=1)\n",
    "\n",
    "# plt.savefig(output_file.format(exp,ds)+'.eps', format='eps', dpi=200,bbox_inches='tight')\n",
    "plt.savefig(output_file.format(exp,ds)+'.pdf', format='pdf', dpi=200,bbox_inches='tight')"
   ]
  },
  {
   "cell_type": "code",
   "execution_count": null,
   "metadata": {},
   "outputs": [],
   "source": []
  }
 ],
 "metadata": {
  "kernelspec": {
   "display_name": "Python 3",
   "language": "python",
   "name": "python3"
  },
  "language_info": {
   "codemirror_mode": {
    "name": "ipython",
    "version": 3
   },
   "file_extension": ".py",
   "mimetype": "text/x-python",
   "name": "python",
   "nbconvert_exporter": "python",
   "pygments_lexer": "ipython3",
   "version": "3.6.0"
  }
 },
 "nbformat": 4,
 "nbformat_minor": 0
}
