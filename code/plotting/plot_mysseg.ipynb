{
 "cells": [
  {
   "cell_type": "code",
   "execution_count": null,
   "metadata": {},
   "outputs": [],
   "source": [
    "import matplotlib.patches as mpatches\n",
    "import numpy as np\n",
    "import os\n",
    "import math\n",
    "import matplotlib.pyplot as plt\n",
    "%matplotlib inline  "
   ]
  },
  {
   "cell_type": "code",
   "execution_count": null,
   "metadata": {},
   "outputs": [],
   "source": [
    "params = {\n",
    "   'axes.labelsize': 12,\n",
    "   'font.size': 10,\n",
    "   'legend.fontsize': 11,\n",
    "   'xtick.labelsize': 10,\n",
    "   'ytick.labelsize': 12,\n",
    "   'text.usetex': False,\n",
    "   'figure.figsize': [10, 2] # instead of 4.5, 4.5\n",
    "   }\n",
    "plt.rcParams.update(params)"
   ]
  },
  {
   "cell_type": "markdown",
   "metadata": {},
   "source": [
    "## helper function"
   ]
  },
  {
   "cell_type": "code",
   "execution_count": null,
   "metadata": {},
   "outputs": [],
   "source": [
    "def autolabel(rects, ses):\n",
    "    # attach some text labels\n",
    "    for rect, se in zip(rects, ses):\n",
    "        height = rect.get_height()\n",
    "        plt.axes().text(rect.get_x()+rect.get_width()/2., height+1.03*se, '{:2.3f}'.format(float(height)).lstrip('0'),\n",
    "                ha='center', va='bottom',fontsize=10)"
   ]
  },
  {
   "cell_type": "markdown",
   "metadata": {},
   "source": [
    "## Fixed Parameter"
   ]
  },
  {
   "cell_type": "code",
   "execution_count": null,
   "metadata": {},
   "outputs": [],
   "source": [
    "# experiment\n",
    "exp = 'mysseg'\n",
    "exp_label = 'Time Segment Matching'\n",
    "base_md = 'avg' #baseline model\n",
    "main_md = 'multi_srm' #main model\n",
    "\n",
    "# dictionaries\n",
    "cl_dict = {0:1/225,1:2/297,2:2/297,3:2/1973} # chance level of each dataset\n",
    "feat_dict = {'multi_srm':[75,75,100],'all_srm':[75,75,50],'indv_srm':[75,75,50],'all_ica':[50,25,25],'indv_ica':[50,25,25],\\\n",
    "'all_gica':[100,50,25],'indv_gica':[100,50,25],'all_dict':[25,25,25],'indv_dict':[25,25,25]}\n",
    "roi_dict = {'dmn':0,'pt':1,'eac':2}\n",
    "# change multi_srm name!\n",
    "md_dict = {'avg':'MNI','multi_srm':'MDSRM','ica':'ICA','gica':'Group-ICA','dict':'Dict','srm':'SRM'}\n",
    "ds_dict = {0:'GreenEyes',1:'Milky',2:'Vodka',3:'Sherlock'}\n",
    "pre_dict = {'indv_':'Single','all_':'All'}\n",
    "md_pre = ['indv_','all_']\n",
    "\n",
    "# paths\n",
    "input_file = '../../output/accu_bar/{}/{}/{}_ds{}.npz' #exp,roi,model,ds\n",
    "output_path = '../../output/figures/{}/' #exp\n",
    "if not os.path.exists(output_path.format(exp)):\n",
    "    os.makedirs(output_path.format(exp))\n",
    "output_file = output_path+'{}_ds{}' #roi,ds"
   ]
  },
  {
   "cell_type": "markdown",
   "metadata": {},
   "source": [
    "## Plotting Parameter"
   ]
  },
  {
   "cell_type": "code",
   "execution_count": null,
   "metadata": {},
   "outputs": [],
   "source": [
    "# max_accu = 0.42\n",
    "# datasets = [1,2]\n",
    "model_all = ['ica','gica','dict','srm']\n",
    "roi_all = ['dmn','pt','eac']\n",
    "max_accu = 0.6\n",
    "datasets = [0,3]"
   ]
  },
  {
   "cell_type": "markdown",
   "metadata": {},
   "source": [
    "## Aggregate Accuracies"
   ]
  },
  {
   "cell_type": "code",
   "execution_count": null,
   "metadata": {},
   "outputs": [],
   "source": [
    "all_mean = [] # length # of roi\n",
    "all_se = [] # length # of roi\n",
    "# aggregate each roi\n",
    "for roi in roi_all:\n",
    "    roi_mean = []\n",
    "    roi_se = []\n",
    "    for ds in datasets:\n",
    "        # baseline model\n",
    "        ws=np.load(input_file.format(exp,roi,base_md,ds))\n",
    "        roi_mean.append(ws['mean'].item())\n",
    "        roi_se.append(ws['se'].item())\n",
    "        # add comparison models\n",
    "        for model in model_all: \n",
    "            for pre in md_pre:\n",
    "                ws=np.load(input_file.format(exp,roi,pre+model,ds))\n",
    "                roi_mean.append(ws['mean'].item())\n",
    "                roi_se.append(ws['se'].item())\n",
    "        # main model\n",
    "        # indv version: indv srm\n",
    "        ws=np.load(input_file.format(exp,roi,'indv_srm',ds))\n",
    "        roi_mean.append(ws['mean'].item())\n",
    "        roi_se.append(ws['se'].item())\n",
    "        # main version\n",
    "        ws=np.load(input_file.format(exp,roi,main_md,ds))\n",
    "        roi_mean.append(ws['mean'].item())\n",
    "        roi_se.append(ws['se'].item())\n",
    "    all_mean.append(roi_mean)\n",
    "    all_se.append(roi_se)"
   ]
  },
  {
   "cell_type": "markdown",
   "metadata": {},
   "source": [
    "## Plot all roi"
   ]
  },
  {
   "cell_type": "code",
   "execution_count": null,
   "metadata": {},
   "outputs": [],
   "source": [
    "width=1\n",
    "nmodel = (len(model_all)+1)*len(md_pre)+1 # number of models, including baseline model and main model\n",
    "ndata = len(datasets)\n",
    "group_width = 1.25*width*nmodel\n",
    "center_all = np.linspace(0,group_width*(ndata-1),ndata)\n",
    "# set colors\n",
    "base_color = 'lightgrey'\n",
    "main_color = 'red'\n",
    "# at most 8 methods to compare\n",
    "color_all = ['mediumseagreen','mediumseagreen','dodgerblue','dodgerblue','mediumorchid','mediumorchid','gold','gold']\n",
    "pattern = ['///',' ']\n",
    "\n",
    "for m,roi in enumerate(roi_all):\n",
    "    ds_idx = []\n",
    "    ds_name = []\n",
    "    plt.figure()\n",
    "    # configure bars\n",
    "    for i,(ds, center) in enumerate(zip(datasets,center_all)):\n",
    "        mean = list(all_mean[m][i*nmodel:(i+1)*nmodel])\n",
    "        se   = list(all_se[m][i*nmodel:(i+1)*nmodel])    \n",
    "        idx = np.arange(center,center+nmodel*width,width)\n",
    "        error_config = {'ecolor': '0','capsize':3}   \n",
    "        rects = plt.bar(idx, mean, yerr=se, align='center', error_kw=error_config, width = width-0.1)\n",
    "        # set colors\n",
    "        rects[0].set_color(base_color)\n",
    "        for rect_i in range(1,len(rects)-2):\n",
    "            rects[rect_i].set_color(color_all[rect_i-1])\n",
    "        rects[-2].set_color(main_color)\n",
    "        rects[-1].set_color(main_color)\n",
    "        # add patterns\n",
    "        for rect_i in range(1,len(rects),2):\n",
    "            rects[rect_i].set_hatch(pattern[0])\n",
    "        autolabel(rects, se)\n",
    "        ds_idx.append(center+(nmodel-1)*width/2)        \n",
    "        ds_name.append(ds_dict[ds])\n",
    "    # find xtick positions\n",
    "    grp = len(md_pre)\n",
    "    xtick_idx = []\n",
    "    xtick_name = []\n",
    "    for center in center_all:\n",
    "        # position of bars\n",
    "        idx = np.arange(center,center+nmodel*width,width)        \n",
    "        xtick_idx.append(idx[0]) # base\n",
    "        xtick_name.append(md_dict[base_md])\n",
    "        for m,model in enumerate(model_all):\n",
    "            xtick_idx.append(idx[0]+m*grp+1.5*width)\n",
    "            feat = str(feat_dict[md_pre[0]+model][roi_dict[roi]])\n",
    "            xtick_name.append(md_dict[model]+'\\n k='+feat)\n",
    "        xtick_idx.append(idx[-1]-0.5*width) # main\n",
    "        feat = str(feat_dict[main_md][roi_dict[roi]])\n",
    "        xtick_name.append(md_dict[main_md]+'\\n k='+feat)                       \n",
    "    plt.xticks(xtick_idx,xtick_name)\n",
    "    \n",
    "    plt.ylabel('Accuracy')\n",
    "    left_lim = center_all[0]-0.5*width-0.5\n",
    "    right_lim = center_all[-1]+(nmodel-0.5)*width+0.5\n",
    "    plt.xlim([left_lim,right_lim])\n",
    "    plt.ylim([0,max_accu])\n",
    "\n",
    "    # plot chance accuracy of each dataset\n",
    "    for d,center in enumerate(center_all):\n",
    "        cl = cl_dict[datasets[d]]\n",
    "        line = plt.plot([center-width, center+(nmodel+1)*width], [cl, cl], 'k-.', linewidth=2)\n",
    "       \n",
    "    # Add texts\n",
    "    plt.text((right_lim+left_lim)/2, 1.2*max_accu, exp_label+', ROI: '+roi.upper(),fontsize=12,horizontalalignment='center', verticalalignment='bottom')\n",
    "    props = dict(boxstyle='round', facecolor='wheat', alpha=0.5)\n",
    "    for d in range(len(datasets)):\n",
    "        plt.text(ds_idx[d],0.96*max_accu,ds_name[d],bbox=props,fontsize=12,horizontalalignment='center', verticalalignment='top')\n",
    "    \n",
    "    # legend\n",
    "    legend_handle = []\n",
    "    legend_handle.append(mpatches.Patch(color=base_color, label=md_dict[base_md]))\n",
    "    for patch_i in range(len(model_all)):\n",
    "        legend_handle.append(mpatches.Patch(color=color_all[2*patch_i+1], label=md_dict[model_all[patch_i]]))\n",
    "    legend_handle.append(mpatches.Patch(color=main_color, label=md_dict[main_md]))        \n",
    "    l1 = plt.legend(handles=legend_handle,bbox_to_anchor=(0.,1.02,1.,.102), loc=3,ncol=len(model_all)+2,mode=\"expand\", borderaxespad=0.)\n",
    "    ax = plt.gca().add_artist(l1)\n",
    "    l2 = plt.legend(line ,['chance'],loc=9,ncol=1)\n",
    "    legend_handle2 = []\n",
    "    for patch_i in range(len(md_pre)):\n",
    "        legend_handle2.append(mpatches.Patch(hatch=pattern[patch_i], color='beige',label=pre_dict[md_pre[patch_i]]))\n",
    "    ax = plt.gca().add_artist(l2)\n",
    "    plt.legend(handles=legend_handle2,loc=2,ncol=1)\n",
    "            \n",
    "#     plt.savefig(output_file.format(exp,roi,datasets).replace(' ','')+'.eps', format='eps', dpi=200,bbox_inches='tight')\n",
    "    plt.savefig(output_file.format(exp,roi,datasets).replace(' ','')+'.pdf', format='pdf', dpi=200,bbox_inches='tight')"
   ]
  },
  {
   "cell_type": "code",
   "execution_count": null,
   "metadata": {},
   "outputs": [],
   "source": []
  }
 ],
 "metadata": {
  "kernelspec": {
   "display_name": "Python 3",
   "language": "python",
   "name": "python3"
  },
  "language_info": {
   "codemirror_mode": {
    "name": "ipython",
    "version": 3
   },
   "file_extension": ".py",
   "mimetype": "text/x-python",
   "name": "python",
   "nbconvert_exporter": "python",
   "pygments_lexer": "ipython3",
   "version": "3.6.0"
  }
 },
 "nbformat": 4,
 "nbformat_minor": 0
}
