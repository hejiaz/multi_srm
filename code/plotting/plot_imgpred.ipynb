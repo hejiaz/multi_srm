{
 "cells": [
  {
   "cell_type": "code",
   "execution_count": null,
   "metadata": {},
   "outputs": [],
   "source": [
    "import matplotlib.patches as mpatches\n",
    "import numpy as np\n",
    "import os\n",
    "import math\n",
    "import matplotlib.pyplot as plt\n",
    "%matplotlib inline  "
   ]
  },
  {
   "cell_type": "code",
   "execution_count": null,
   "metadata": {},
   "outputs": [],
   "source": [
    "params = {\n",
    "   'axes.labelsize': 12,\n",
    "   'font.size': 10,\n",
    "   'legend.fontsize': 10,\n",
    "   'xtick.labelsize': 10,\n",
    "   'ytick.labelsize': 12,\n",
    "   'text.usetex': False,\n",
    "   'figure.figsize': [6.5, 2] # instead of 4.5, 4.5\n",
    "   }\n",
    "plt.rcParams.update(params)"
   ]
  },
  {
   "cell_type": "markdown",
   "metadata": {},
   "source": [
    "## helper function"
   ]
  },
  {
   "cell_type": "code",
   "execution_count": null,
   "metadata": {},
   "outputs": [],
   "source": [
    "def autolabel(rects, ses):\n",
    "    # attach some text labels\n",
    "    for rect, se in zip(rects, ses):\n",
    "        height = rect.get_height()\n",
    "        plt.axes().text(rect.get_x()+rect.get_width()/2., height+1.03*se, '{:2.3f}'.format(float(height)).lstrip('0'),\n",
    "                ha='center', va='bottom',fontsize=10)"
   ]
  },
  {
   "cell_type": "markdown",
   "metadata": {},
   "source": [
    "## Fixed Parameter"
   ]
  },
  {
   "cell_type": "code",
   "execution_count": null,
   "metadata": {},
   "outputs": [],
   "source": [
    "# experiment\n",
    "exp = 'imgpred'\n",
    "exp_label = 'Scene Recall Matching'\n",
    "\n",
    "# dictionaries\n",
    "chance_lvl = 1/50 # chance level, 34.5 scenes per subjects on average\n",
    "feat_dict = {'multi_srm':[125],'multi_dict':[100],'indv_srm':[125],'indv_ica':[25],'indv_dict':[100], 'indv_gica':[25],'avg':[50]}\n",
    "roi_dict = {'pmc':0}\n",
    "md_dict = {'avg':'MNI','multi_srm':'MDMS','ica':'ICA','indv_gica':'GICA','indv_dict':'DL','indv_srm':'SRM','multi_dict':'MDDL'}\n",
    "ds_dict = {0:'GreenEyes',1:'Milky',2:'Vodka',3:'Sherlock'}\n",
    "lg_dc = ['Prm.','Prm.+Sec.']\n",
    "\n",
    "# path\n",
    "input_file = '../../output/accu_bar/{}/{}/{}/{}.npz' #exp,total_ds,roi,model\n",
    "output_path = '../../output/figures/{}/' #exp,total_ds\n",
    "output_file = output_path+'{}' #roi"
   ]
  },
  {
   "cell_type": "markdown",
   "metadata": {},
   "source": [
    "## Plotting Parameter"
   ]
  },
  {
   "cell_type": "code",
   "execution_count": null,
   "metadata": {},
   "outputs": [],
   "source": [
    "total_ds = list(range(12))\n",
    "max_accu = 0.17\n",
    "datasets = [3]\n",
    "model_all = ['avg','indv_gica','indv_dict','indv_srm','multi_dict','multi_srm']\n",
    "roi_all = ['pmc']\n",
    "if not os.path.exists(output_path.format(exp).replace(' ','')):\n",
    "    os.makedirs(output_path.format(exp).replace(' ',''))"
   ]
  },
  {
   "cell_type": "markdown",
   "metadata": {},
   "source": [
    "## Aggregate Accuracies"
   ]
  },
  {
   "cell_type": "code",
   "execution_count": null,
   "metadata": {},
   "outputs": [],
   "source": [
    "all_mean = [] # length # of roi\n",
    "all_se = [] # length # of roi\n",
    "# aggregate each roi\n",
    "for roi in roi_all:\n",
    "    roi_mean = []\n",
    "    roi_se = []\n",
    "    for model in model_all: \n",
    "        ws=np.load(input_file.format(exp,total_ds,roi,model).replace(' ',''))\n",
    "        roi_mean.append(ws['mean'].item())\n",
    "        roi_se.append(ws['se'].item())    \n",
    "    all_mean.append(roi_mean)\n",
    "    all_se.append(roi_se)"
   ]
  },
  {
   "cell_type": "markdown",
   "metadata": {},
   "source": [
    "## Plot all roi"
   ]
  },
  {
   "cell_type": "code",
   "execution_count": null,
   "metadata": {},
   "outputs": [],
   "source": [
    "width=1\n",
    "nmodel = len(model_all)# number of models\n",
    "ndata = len(datasets)\n",
    "group_width = 1.1*width*nmodel+0.4*width\n",
    "center_all = np.linspace(0,group_width*(ndata-1),ndata)\n",
    "# set colors\n",
    "color_all = ['lightgrey','mediumseagreen','dodgerblue','mediumorchid','gold','red']\n",
    "pattern = ['///',' ']\n",
    "\n",
    "for m,roi in enumerate(roi_all):\n",
    "    # xtick \n",
    "    xtick_idx = []\n",
    "    xtick_name = []  \n",
    "    xtick_idx.append(center_all[0]-0.5*width-0.5)\n",
    "    xtick_name.append('model\\nk')\n",
    "    # dataset names\n",
    "    ds_idx = []\n",
    "    ds_name = []\n",
    "    plt.figure()\n",
    "    # configure bars\n",
    "    for i,(ds, center) in enumerate(zip(datasets,center_all)):\n",
    "        mean = list(all_mean[m][i*nmodel:(i+1)*nmodel])\n",
    "        se   = list(all_se[m][i*nmodel:(i+1)*nmodel])    \n",
    "        idx = np.concatenate(((center-0.15*width)[None],np.arange(center+width,center+nmodel*width-2.2*width,width),\\\n",
    "                              (center+nmodel*width-1.85*width)[None],(center+nmodel*width-0.85*width)[None]))\n",
    "        error_config = {'ecolor': '0','capsize':3}   \n",
    "        rects = plt.bar(idx, mean, yerr=se, align='center', error_kw=error_config, width = width-0.1)\n",
    "        # set colors\n",
    "        for rect_i in range(len(rects)):\n",
    "            rects[rect_i].set_color(color_all[rect_i])\n",
    "        # add patterns\n",
    "        for rect_i in range(1,len(rects)-2):\n",
    "            rects[rect_i].set_hatch(pattern[0])\n",
    "            \n",
    "        autolabel(rects,se)\n",
    "        ds_idx.append(center+(nmodel-3.85)*width/2) \n",
    "        ds_name.append(ds_dict[ds])\n",
    "        # xtick names\n",
    "        xtick_idx.extend(idx)\n",
    "        for model in model_all:\n",
    "            feat = str(feat_dict[model][roi_dict[roi]])\n",
    "            if model == 'avg':\n",
    "                xtick_name.append(md_dict[model]+'\\n ')\n",
    "            else:\n",
    "                xtick_name.append(md_dict[model]+'\\n'+feat)\n",
    "\n",
    "    plt.xticks(xtick_idx,xtick_name)\n",
    "    plt.yticks(np.arange(0, max_accu+0.001, 0.1))\n",
    "    plt.ylabel('Accuracy')\n",
    "    left_lim = center_all[0]-0.5*width-0.5\n",
    "    right_lim = center_all[-1]+(nmodel-0.5)*width+0.5\n",
    "    plt.xlim([left_lim,right_lim])\n",
    "    plt.ylim([0,max_accu])\n",
    "\n",
    "    # plot chance accuracy\n",
    "    line = plt.plot([center_all[0]-0.5*width-0.5, center_all[0]+(nmodel+1)*width], [chance_lvl, chance_lvl], 'k-.', linewidth=2)\n",
    "\n",
    "    # Add texts\n",
    "    plt.text((right_lim+left_lim)/2, 1.2*max_accu, exp_label+' (ROI: '+roi.upper()+')',fontsize=13,horizontalalignment='center', verticalalignment='bottom')\n",
    "    props = dict(boxstyle='round', facecolor='wheat', alpha=0.5)\n",
    "    for d in range(len(datasets)):\n",
    "        plt.text(ds_idx[d],0.77*max_accu,'Prm.: '+ds_name[d],bbox=props,fontsize=11,horizontalalignment='center', verticalalignment='top')\n",
    "\n",
    "    # legend\n",
    "    legend_handle = []\n",
    "    for patch_i in range(len(model_all)):\n",
    "        legend_handle.append(mpatches.Patch(color=color_all[patch_i], label=md_dict[model_all[patch_i]]))\n",
    "    l1 = plt.legend(handles=legend_handle,bbox_to_anchor=(0.,1.02,1.,.102),loc=3,ncol=len(model_all),mode=\"expand\", borderaxespad=0.)\n",
    "    ax = plt.gca().add_artist(l1)\n",
    "    l2 = plt.legend(line ,['chance'],bbox_to_anchor=(0.,1.04,0.82,0.),loc=1,ncol=1)\n",
    "    ax = plt.gca().add_artist(l2)\n",
    "    ax = plt.gca().add_artist(l1)\n",
    "    legend_handle2 = []\n",
    "    for patch_i in range(2):\n",
    "        legend_handle2.append(mpatches.Patch(hatch=pattern[patch_i], color='beige',label=lg_dc[patch_i]))\n",
    "\n",
    "    plt.legend(handles=legend_handle2,bbox_to_anchor=(-0.01,1.04,1.,0.),loc=2,ncol=2)        \n",
    "\n",
    "#     plt.savefig(output_file.format(exp,roi).replace(' ','')+'.eps', format='eps', dpi=200,bbox_inches='tight')\n",
    "    plt.savefig(output_file.format(exp,roi).replace(' ','')+'.pdf', format='pdf', dpi=200,bbox_inches='tight')"
   ]
  },
  {
   "cell_type": "code",
   "execution_count": null,
   "metadata": {},
   "outputs": [],
   "source": []
  }
 ],
 "metadata": {
  "kernelspec": {
   "display_name": "Python 3",
   "language": "python",
   "name": "python3"
  },
  "language_info": {
   "codemirror_mode": {
    "name": "ipython",
    "version": 3
   },
   "file_extension": ".py",
   "mimetype": "text/x-python",
   "name": "python",
   "nbconvert_exporter": "python",
   "pygments_lexer": "ipython3",
   "version": "3.6.0"
  }
 },
 "nbformat": 4,
 "nbformat_minor": 0
}
