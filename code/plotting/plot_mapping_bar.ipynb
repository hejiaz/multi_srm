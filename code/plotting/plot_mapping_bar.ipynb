{
 "cells": [
  {
   "cell_type": "code",
   "execution_count": null,
   "metadata": {},
   "outputs": [],
   "source": [
    "import matplotlib.patches as mpatches\n",
    "import numpy as np\n",
    "import os\n",
    "import math\n",
    "import matplotlib.pyplot as plt\n",
    "%matplotlib inline  "
   ]
  },
  {
   "cell_type": "code",
   "execution_count": null,
   "metadata": {},
   "outputs": [],
   "source": [
    "params = {\n",
    "   'axes.labelsize': 12,\n",
    "   'font.size': 12,\n",
    "   'legend.fontsize': 11,\n",
    "   'xtick.labelsize': 12,\n",
    "   'ytick.labelsize': 12,\n",
    "   'text.usetex': False,\n",
    "   'figure.figsize': [10, 2] # instead of 4.5, 4.5\n",
    "   }\n",
    "plt.rcParams.update(params)"
   ]
  },
  {
   "cell_type": "markdown",
   "metadata": {},
   "source": [
    "## helper function"
   ]
  },
  {
   "cell_type": "code",
   "execution_count": null,
   "metadata": {},
   "outputs": [],
   "source": [
    "def autolabel(rects):\n",
    "    # attach some text labels\n",
    "    for rect in rects:\n",
    "        height = rect.get_height()\n",
    "        plt.axes().text(rect.get_x()+rect.get_width()/2., height+0.01, '{:2.3f}'.format(float(height)).lstrip('0'),\n",
    "                ha='center', va='bottom',fontsize=12)"
   ]
  },
  {
   "cell_type": "markdown",
   "metadata": {},
   "source": [
    "## Plotting Parameter"
   ]
  },
  {
   "cell_type": "code",
   "execution_count": null,
   "metadata": {},
   "outputs": [],
   "source": [
    "nfeature = 50\n",
    "pre = 'uw_' #'','ww_','uw_'\n",
    "word_dim = 100\n",
    "exp = 'mapping'\n",
    "roi_all = ['dmn','pt','eac']\n",
    "accu_type = ['class','rank']\n",
    "num_train = 40\n",
    "datasets = [0,1,2,3]\n",
    "# model_all = ['multi_srm','srm_rotate','srm_rotate_ind','indv_srm','avg']\n",
    "model_all = ['multi_srm','srm_rotate','srm_rotate2','srm','avg']\n",
    "max_accu = 1.5\n",
    "exp_label = 'fMRI to Text Mapping'\n",
    "\n",
    "input_file = '../../output/accu_bar/{pre}{exp}{word_dim}/nfeat{nfeature}/num_train{num_train}/ds{ds}/{roi}_{ac_tp}.npz'\n",
    "output_path = '../../output/figures/{exp}/ntrain{num_train}_ds{ds}/'\n",
    "output_file = output_path+'nfeat{nfeature}_{roi}_{pre}{word_dim}'\n",
    "if not os.path.exists(output_path.format(exp=exp,num_train=num_train,ds=datasets)):\n",
    "    os.makedirs(output_path.format(exp=exp,num_train=num_train,ds=datasets))"
   ]
  },
  {
   "cell_type": "markdown",
   "metadata": {},
   "source": [
    "## Plot all roi"
   ]
  },
  {
   "cell_type": "code",
   "execution_count": null,
   "metadata": {},
   "outputs": [],
   "source": [
    "width=1\n",
    "ntype = len(accu_type)\n",
    "nmodel = len(model_all)\n",
    "group_width = 1.25*width*nmodel\n",
    "center_all = np.linspace(0,group_width*(ntype-1),ntype)\n",
    "color_all = 'bgrcmyk'\n",
    "\n",
    "for roi in roi_all:\n",
    "    xtick_idx = []\n",
    "    xtick_name = []\n",
    "    all_mean = np.empty((0),dtype=np.float32)\n",
    "    all_se = np.empty((0),dtype=np.float32)\n",
    "    for ac_tp in accu_type:\n",
    "        ws = np.load(input_file.format(pre=pre,exp=exp,word_dim=word_dim,nfeature=nfeature,num_train=num_train,ds=datasets,roi=roi,ac_tp=ac_tp))\n",
    "        all_mean = np.concatenate((all_mean,ws['accu_mean']),axis=0)\n",
    "        all_se = np.concatenate((all_se,ws['accu_se']),axis=0)\n",
    "    plt.figure()\n",
    "    for i,(name, center) in enumerate(zip(accu_type,center_all)):\n",
    "        mean = list(all_mean[i*nmodel:(i+1)*nmodel])\n",
    "        se   = list(all_se[i*nmodel:(i+1)*nmodel])    \n",
    "        idx = np.arange(center,center+nmodel*width,width)   \n",
    "        error_config = {'ecolor': '0'}   \n",
    "        rects = plt.bar(idx, mean, yerr=se, align='center', error_kw=error_config, width =  width-0.1)\n",
    "        for rect_i in range(len(rects)):\n",
    "            rects[rect_i].set_color(color_all[rect_i])\n",
    "        autolabel(rects)\n",
    "        xtick_idx.append(center+(nmodel-1)*width/2)\n",
    "        xtick_name.append(name)\n",
    "\n",
    "    plt.xticks(xtick_idx, xtick_name)\n",
    "\n",
    "    plt.ylabel('Accuracy')\n",
    "    left_lim = center_all[0]-0.5*width-0.5\n",
    "    right_lim = center_all[-1]+(nmodel-0.5)*width+0.5\n",
    "    plt.xlim([left_lim,right_lim])\n",
    "    plt.ylim([0,max_accu])\n",
    "    legend_handle = []\n",
    "    for patch_i in range(nmodel):\n",
    "        legend_handle.append(mpatches.Patch(color=color_all[patch_i], label=model_all[patch_i]))\n",
    "    plt.legend(handles=legend_handle,loc=2,ncol=int(math.ceil(nmodel/2)))\n",
    "    plt.text(right_lim-0.5*width, .98*max_accu, exp_label, horizontalalignment='right', verticalalignment='top')\n",
    "    plt.text(right_lim-0.5*width, .86*max_accu, '# feature: '+str(nfeature), horizontalalignment='right', verticalalignment='top')\n",
    "    plt.text(right_lim-0.6*width, 0.74*max_accu, 'roi: '+roi, horizontalalignment='right', verticalalignment='top')\n",
    "    plt.savefig(output_file.format(exp=exp,num_train=num_train,ds=datasets,nfeature=nfeature,roi=roi,pre=pre,word_dim=word_dim)+'.eps', format='eps', dpi=200,bbox_inches='tight')\n",
    "    plt.savefig(output_file.format(exp=exp,num_train=num_train,ds=datasets,nfeature=nfeature,roi=roi,pre=pre,word_dim=word_dim)+'.pdf', format='pdf', dpi=200,bbox_inches='tight')"
   ]
  },
  {
   "cell_type": "code",
   "execution_count": null,
   "metadata": {},
   "outputs": [],
   "source": []
  }
 ],
 "metadata": {
  "kernelspec": {
   "display_name": "Python 3",
   "language": "python",
   "name": "python3"
  },
  "language_info": {
   "codemirror_mode": {
    "name": "ipython",
    "version": 3
   },
   "file_extension": ".py",
   "mimetype": "text/x-python",
   "name": "python",
   "nbconvert_exporter": "python",
   "pygments_lexer": "ipython3",
   "version": "3.6.0"
  }
 },
 "nbformat": 4,
 "nbformat_minor": 0
}
