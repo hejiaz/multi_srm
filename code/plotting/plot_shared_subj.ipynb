{
 "cells": [
  {
   "cell_type": "code",
   "execution_count": null,
   "metadata": {},
   "outputs": [],
   "source": [
    "import matplotlib.patches as mpatches\n",
    "import numpy as np\n",
    "import os\n",
    "import math\n",
    "import matplotlib.pyplot as plt\n",
    "%matplotlib inline  "
   ]
  },
  {
   "cell_type": "code",
   "execution_count": null,
   "metadata": {},
   "outputs": [],
   "source": [
    "params = {\n",
    "   'axes.labelsize': 11,\n",
    "   'font.size': 10,\n",
    "   'legend.fontsize': 11,\n",
    "   'xtick.labelsize': 11,\n",
    "   'ytick.labelsize': 12,\n",
    "   'text.usetex': False,\n",
    "   'figure.figsize': [8, 2] # instead of 4.5, 4.5\n",
    "   }\n",
    "plt.rcParams.update(params)"
   ]
  },
  {
   "cell_type": "markdown",
   "metadata": {},
   "source": [
    "## Fixed Parameter"
   ]
  },
  {
   "cell_type": "code",
   "execution_count": null,
   "metadata": {},
   "outputs": [],
   "source": [
    "roi_all = ['dmn']\n",
    "model = 'multi_srm'\n",
    "\n",
    "# dictionaries\n",
    "cl_dict = {0:1/450,1:1/297,2:1/297,3:1/1973} # chance level of each dataset\n",
    "feat_dict = {'multi_srm':[75,75,100],'multi_dict':[25,50,50],'avg':[50,50,50]}\n",
    "roi_dict = {'dmn':0,'pt':1,'eac':2}\n",
    "# change multi_srm name!\n",
    "md_dict = {'avg':'MNI','multi_srm':'MDMSL','multi_dict':'MDDict'}\n",
    "ds_dict = {0:'GreenEyes',1:'Milky',2:'Vodka',3:'Sherlock'}\n",
    "\n",
    "# paths\n",
    "input_file = '../../output/accu_bar/{}/{}/{}_ds{}.npz' #exp,roi,model,ds\n",
    "output_path = '../../output/figures/{}/' #exp\n",
    "output_file = output_path+'{}_{}_{}' #model,roi,ds"
   ]
  },
  {
   "cell_type": "markdown",
   "metadata": {},
   "source": [
    "## Plotting Parameter"
   ]
  },
  {
   "cell_type": "code",
   "execution_count": null,
   "metadata": {},
   "outputs": [],
   "source": [
    "# experiment\n",
    "exp = 'shared_subj'\n",
    "exp_label = 'Add Shared Subjects to Sec. Dataset'\n",
    "\n",
    "ds_all = [[2,0],[1,0]] # length must be 2\n",
    "min_accu = [0.1,0.1]\n",
    "max_accu = [0.4,0.2]\n",
    "\n",
    "if not os.path.exists(output_path.format(exp)):\n",
    "    os.makedirs(output_path.format(exp))"
   ]
  },
  {
   "cell_type": "markdown",
   "metadata": {},
   "source": [
    "## Aggregate Accuracy"
   ]
  },
  {
   "cell_type": "code",
   "execution_count": null,
   "metadata": {},
   "outputs": [],
   "source": [
    "# Accuracies\n",
    "all_mean = [] # length # of roi\n",
    "all_se = [] # length # of roi\n",
    "# aggregate each roi\n",
    "for roi in roi_all:\n",
    "    roi_mean = []\n",
    "    roi_se = []\n",
    "    # aggregate each ds pair\n",
    "    for ds in ds_all:\n",
    "        ws=np.load(input_file.format(exp,roi,model,ds).replace(' ',''))\n",
    "        roi_mean.append(ws['mean'])\n",
    "        roi_se.append(ws['se'])\n",
    "    all_mean.append(roi_mean)\n",
    "    all_se.append(roi_se)"
   ]
  },
  {
   "cell_type": "markdown",
   "metadata": {},
   "source": [
    "## Plot all roi (line plot)"
   ]
  },
  {
   "cell_type": "code",
   "execution_count": null,
   "metadata": {},
   "outputs": [],
   "source": [
    "color = 'red'\n",
    "for m,roi in enumerate(roi_all):\n",
    "    fig = plt.figure()\n",
    "    for r,ds in enumerate(ds_all):\n",
    "        mean = all_mean[m][r]\n",
    "        se = all_se[m][r]\n",
    "        num_subj = mean.shape[0]\n",
    "        idx = np.array(list(range(num_subj)),dtype=np.int32)\n",
    "        if r == 0:\n",
    "            ax = fig.add_subplot(121)\n",
    "            plt.ylabel('Accuracy')\n",
    "        elif r == 1:\n",
    "            ax = fig.add_subplot(122)\n",
    "        ax.errorbar (idx,mean,se, color=color, capsize=3, ecolor='k',linewidth=2.0)  \n",
    "        left_lim = -0.5\n",
    "        right_lim = num_subj-0.5\n",
    "        ax.set_xlim([left_lim,right_lim])\n",
    "\n",
    "        ax.set_ylim([min_accu[r],max_accu[r]])\n",
    "        ax.set_xticks(list(range(0,num_subj,2)))\n",
    "        ax.set_xticklabels([n+1 for n in list(range(0,num_subj,2))])\n",
    "        ax.set_yticks(np.arange(min_accu[r], max_accu[r]+0.001, 0.1))\n",
    "        \n",
    "        # plot chance accuracy\n",
    "        cl = cl_dict[ds[0]]\n",
    "        line = plt.plot([left_lim, right_lim], [cl, cl], 'k-.', linewidth=2)\n",
    "\n",
    "        # Add texts        \n",
    "        props = dict(boxstyle='round', facecolor='wheat', alpha=0.5)\n",
    "        plt.text(4*(right_lim+left_lim)/5, 0.22*(max_accu[r]-min_accu[r])+min_accu[r], 'k = '+str(feat_dict[model][roi_dict[roi]]),bbox=props,fontsize=12,horizontalalignment='center', verticalalignment='top')\n",
    "        props2 = dict(boxstyle='square', facecolor='ivory',alpha=0.5)\n",
    "        ds_text = 'Prm.:'+ds_dict[ds[0]]+'\\nSec.:'+ds_dict[ds[1]]\n",
    "        plt.text(left_lim+0.5,0.95*(max_accu[r]-min_accu[r])+min_accu[r],ds_text,bbox=props2,fontsize=12,horizontalalignment='left', verticalalignment='top')\n",
    "\n",
    "    plt.text(left_lim-0.6, 1.02*(max_accu[r]-min_accu[r])+min_accu[r], exp_label+' (ROI: '+roi.upper()+')',fontsize=12,horizontalalignment='center', verticalalignment='bottom')\n",
    "    plt.text(left_lim-0.6, min_accu[r]-0.015, 'Number of shared subjects',fontsize=11,horizontalalignment='center', verticalalignment='top') \n",
    "    plt.subplots_adjust(wspace=0.15)\n",
    "#     plt.xlabel('Number of shared subjects')    \n",
    "#     plt.savefig(output_file.format(exp,roi,model,ds).replace(' ','')+'.eps', format='eps', dpi=200,bbox_inches='tight')\n",
    "    plt.savefig(output_file.format(exp,roi,model,ds).replace(' ','')+'.pdf', format='pdf', dpi=200,bbox_inches='tight')"
   ]
  },
  {
   "cell_type": "code",
   "execution_count": null,
   "metadata": {},
   "outputs": [],
   "source": []
  }
 ],
 "metadata": {
  "kernelspec": {
   "display_name": "Python 3",
   "language": "python",
   "name": "python3"
  },
  "language_info": {
   "codemirror_mode": {
    "name": "ipython",
    "version": 3
   },
   "file_extension": ".py",
   "mimetype": "text/x-python",
   "name": "python",
   "nbconvert_exporter": "python",
   "pygments_lexer": "ipython3",
   "version": "3.6.0"
  }
 },
 "nbformat": 4,
 "nbformat_minor": 0
}
