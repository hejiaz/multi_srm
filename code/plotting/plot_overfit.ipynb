{
 "cells": [
  {
   "cell_type": "code",
   "execution_count": null,
   "metadata": {},
   "outputs": [],
   "source": [
    "import matplotlib.patches as mpatches\n",
    "import numpy as np\n",
    "import os\n",
    "import math\n",
    "import matplotlib.pyplot as plt\n",
    "%matplotlib inline  "
   ]
  },
  {
   "cell_type": "code",
   "execution_count": null,
   "metadata": {},
   "outputs": [],
   "source": [
    "params = {\n",
    "   'axes.labelsize': 12,\n",
    "   'font.size': 12,\n",
    "   'legend.fontsize': 11,\n",
    "   'xtick.labelsize': 12,\n",
    "   'ytick.labelsize': 12,\n",
    "   'text.usetex': False,\n",
    "   'figure.figsize': [10, 2] # instead of 4.5, 4.5\n",
    "   }\n",
    "plt.rcParams.update(params)"
   ]
  },
  {
   "cell_type": "markdown",
   "metadata": {},
   "source": [
    "## helper function"
   ]
  },
  {
   "cell_type": "code",
   "execution_count": null,
   "metadata": {},
   "outputs": [],
   "source": [
    "def autolabel(rects):\n",
    "    # attach some text labels\n",
    "    for rect in rects:\n",
    "        height = rect.get_height()\n",
    "        plt.axes().text(rect.get_x()+rect.get_width()/2., height+0.01, '{:2.3f}'.format(float(height)).lstrip('0'),\n",
    "                ha='center', va='bottom',fontsize=12)"
   ]
  },
  {
   "cell_type": "markdown",
   "metadata": {},
   "source": [
    "## Fixed Parameter"
   ]
  },
  {
   "cell_type": "code",
   "execution_count": null,
   "metadata": {},
   "outputs": [],
   "source": [
    "# experiment\n",
    "exp = 'overfit'\n",
    "exp_label = 'Time Segment Matching on Switched W'\n",
    "\n",
    "# dictionaries\n",
    "cl_dict = {0:1/225,1:2/297,2:2/297,3:2/1973} # chance level of each dataset\n",
    "feat_dict = {'srm':[75,75,50],'ica':[50,25,25],'gica':[100,50,25],'dict':[25,25,25]}\n",
    "roi_dict = {'dmn':0,'pt':1,'eac':2}\n",
    "md_dict = {'ica':'ICA','gica':'Group-ICA','dict':'Dict','srm':'SRM'}\n",
    "ds_dict = {0:'GreenEyes',1:'Milky',2:'Vodka',3:'Sherlock'}\n",
    "md_pre = ['indv_']\n",
    "\n",
    "# paths\n",
    "input_file = '../../output/accu_bar/{}/{}/{}_ds{}.npz' #exp,roi,model,ds\n",
    "output_path = '../../output/figures/{}/' #exp\n",
    "if not os.path.exists(output_path.format(exp)):\n",
    "    os.makedirs(output_path.format(exp))\n",
    "output_file = output_path+'{}_ds{}' #roi,ds"
   ]
  },
  {
   "cell_type": "markdown",
   "metadata": {},
   "source": [
    "## Plotting Parameter"
   ]
  },
  {
   "cell_type": "code",
   "execution_count": null,
   "metadata": {},
   "outputs": [],
   "source": [
    "roi_all = ['dmn','pt','eac']\n"
   ]
  },
  {
   "cell_type": "markdown",
   "metadata": {},
   "source": [
    "## Plot all roi"
   ]
  },
  {
   "cell_type": "code",
   "execution_count": null,
   "metadata": {},
   "outputs": [],
   "source": [
    "width=1\n",
    "ngroup = len(loo_ds_all)\n",
    "group_width = []\n",
    "for grp_idx in range(ngroup):\n",
    "    group_width.append(1.25*width*len(other_ds_all[grp_idx]))\n",
    "group_width = np.array(group_width,dtype=np.float32)\n",
    "center_all = np.insert(np.cumsum(group_width),0,0)[:-1]\n",
    "color_all = 'brgcmyk'\n",
    "idx_all = [0]\n",
    "for i in range(ngroup):\n",
    "    idx_all.append(idx_all[-1]+len(other_ds_all[i]))\n",
    "\n",
    "for roi in roi_all:\n",
    "#     xtick_idx = []\n",
    "#     xtick_name = []\n",
    "    xtick_minor_idx = []\n",
    "    xtick_minor_name = []\n",
    "    ws= np.load(input_file.format(exp=exp,model=model,nfeature=nfeature,roi=roi))\n",
    "    keep = [0,1,2,3,5,6]\n",
    "    all_mean = ws['accu_mean'][keep]\n",
    "    all_se = ws['accu_se'][keep]\n",
    "    fig = plt.figure()\n",
    "    ax = fig.add_subplot(1,1,1)\n",
    "    for i,(name, name_minor,center) in enumerate(zip(loo_ds_all,other_ds_all,center_all)):\n",
    "        mean = list(all_mean[idx_all[i]:idx_all[i+1]])\n",
    "        se   = list(all_se[idx_all[i]:idx_all[i+1]])    \n",
    "        idx = np.arange(center,center+len(name_minor)*width,width)   \n",
    "        error_config = {'ecolor': '0'}   \n",
    "        rects = plt.bar(idx, mean, yerr=se, align='center', error_kw=error_config, width =  width-0.1)\n",
    "        for rect_i in range(len(rects)):\n",
    "            rects[rect_i].set_color(color_all[rect_i])\n",
    "        autolabel(rects)\n",
    "#         xtick_idx.append(center+(len(name_minor)-1)*width/2)\n",
    "#         xtick_name.append(name)\n",
    "        xtick_minor_idx.extend(idx)\n",
    "        xtick_minor_name.extend(name_minor)\n",
    "\n",
    "#     ax.set_xticks(xtick_idx)\n",
    "#     ax.set_xticklabels(xtick_name)\n",
    "#     for t in ax.get_xticklabels():\n",
    "#         t.set_y(-0.1)\n",
    "#     ax.set_xticks(xtick_minor_idx,minor=True)\n",
    "#     ax.set_xticklabels(xtick_minor_name,minor=True)\n",
    "    ax.set_xticks(xtick_minor_idx)\n",
    "    ax.set_xticklabels(xtick_minor_name)\n",
    "    \n",
    "    ax.set_ylabel('Accuracy')\n",
    "    left_lim = center_all[0]-0.5*width-0.5\n",
    "    right_lim = center_all[-1]+(len(other_ds_all[-1])-0.5)*width+0.5\n",
    "    ax.set_xlim([left_lim,right_lim])\n",
    "    ax.set_ylim([0,max_accu])\n",
    "    legend_handle = []\n",
    "    for patch_i in range(2):\n",
    "        legend_handle.append(mpatches.Patch(color=color_all[patch_i], label='train with '+str(patch_i+1)+' datasets'))\n",
    "    ax.legend(handles=legend_handle,loc=9, bbox_to_anchor=(0.5, -0.2),ncol=2)\n",
    "    ax.text(left_lim, 1.02*max_accu, exp_label, horizontalalignment='left', verticalalignment='bottom')\n",
    "    ax.text(1.5*(right_lim+left_lim)/2, 1.02*max_accu, '# feature: '+str(nfeature), horizontalalignment='right', verticalalignment='bottom')\n",
    "    ax.text(right_lim-0.6*width, 1.02*max_accu, 'roi: '+roi, horizontalalignment='right', verticalalignment='bottom')\n",
    "#     plt.savefig(output_file.format(exp=exp,model=model,nfeature=nfeature,roi=roi)+'.eps', format='eps', dpi=200,bbox_inches='tight')\n",
    "    plt.savefig(output_file.format(exp=exp,model=model,nfeature=nfeature,roi=roi)+'.pdf', format='pdf', dpi=200,bbox_inches='tight')"
   ]
  },
  {
   "cell_type": "code",
   "execution_count": null,
   "metadata": {},
   "outputs": [],
   "source": []
  }
 ],
 "metadata": {
  "kernelspec": {
   "display_name": "Python 3",
   "language": "python",
   "name": "python3"
  },
  "language_info": {
   "codemirror_mode": {
    "name": "ipython",
    "version": 3
   },
   "file_extension": ".py",
   "mimetype": "text/x-python",
   "name": "python",
   "nbconvert_exporter": "python",
   "pygments_lexer": "ipython3",
   "version": "3.6.0"
  }
 },
 "nbformat": 4,
 "nbformat_minor": 0
}
