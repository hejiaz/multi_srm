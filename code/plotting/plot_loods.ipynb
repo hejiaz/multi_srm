{
 "cells": [
  {
   "cell_type": "code",
   "execution_count": null,
   "metadata": {},
   "outputs": [],
   "source": [
    "import matplotlib.patches as mpatches\n",
    "from matplotlib import rc\n",
    "import numpy as np\n",
    "import os\n",
    "import math\n",
    "import matplotlib.pyplot as plt\n",
    "%matplotlib inline  "
   ]
  },
  {
   "cell_type": "code",
   "execution_count": null,
   "metadata": {},
   "outputs": [],
   "source": [
    "params = {\n",
    "   'axes.labelsize': 12,\n",
    "   'font.size': 12,\n",
    "   'legend.fontsize': 11,\n",
    "   'xtick.labelsize': 12,\n",
    "   'ytick.labelsize': 12,\n",
    "   'text.usetex': False,\n",
    "   'figure.figsize': [7, 2], # instead of 4.5, 4.5\n",
    "   }\n",
    "plt.rcParams.update(params)"
   ]
  },
  {
   "cell_type": "markdown",
   "metadata": {},
   "source": [
    "## helper function"
   ]
  },
  {
   "cell_type": "code",
   "execution_count": null,
   "metadata": {},
   "outputs": [],
   "source": [
    "def autolabel(rects, ses):\n",
    "    # attach some text labels\n",
    "    for rect, se in zip(rects, ses):\n",
    "        height = rect.get_height()\n",
    "        plt.axes().text(rect.get_x()+rect.get_width()/2., height+1.03*se, '{:2.3f}'.format(float(height)).lstrip('0'),\n",
    "                ha='center', va='bottom',fontsize=10)"
   ]
  },
  {
   "cell_type": "markdown",
   "metadata": {},
   "source": [
    "## Fixed Parameter"
   ]
  },
  {
   "cell_type": "code",
   "execution_count": null,
   "metadata": {},
   "outputs": [],
   "source": [
    "# experiment\n",
    "exp = 'loo_ds'\n",
    "exp_label = 'Transfer Learning to an Unseen Prm. Dataset'\n",
    "\n",
    "# dictionaries\n",
    "cl_dict = {0:1/450,1:1/297,2:1/297,3:1/1973} # chance level of each dataset\n",
    "feat_dict = {'multi_srm':[75,75,100],'all_srm':[75,75,50],'indv_srm':[75,75,50],'all_ica':[50,25,25],'indv_ica':[50,25,25],\\\n",
    "'all_gica':[100,50,25],'indv_gica':[100,50,25],'all_dict':[25,25,25],'indv_dict':[25,25,25]}\n",
    "roi_dict = {'dmn':0,'pt':1,'eac':2}\n",
    "# change multi_srm name!\n",
    "md_dict = {'avg':'MNI','multi_srm':'MDSRM','ica':'ICA','gica':'Group-ICA','dict':'Dict','srm':'SRM'}\n",
    "ds_dict = {0:'GreenEyes',1:'Milky',2:'Vodka',3:'Sherlock'}\n",
    "lg_lb  = ['$1$ sec. dataset','$2$ sec. datasets'] # legend label\n",
    "\n",
    "# paths\n",
    "input_file = '../../output/accu_bar/{}/{}/{}_loo{}_other{}.npz' #exp,roi,model,loo,other\n",
    "output_path = '../../output/figures/{}/' #exp\n",
    "if not os.path.exists(output_path.format(exp)):\n",
    "    os.makedirs(output_path.format(exp))\n",
    "output_file = output_path+'{}_{}' #model,roi"
   ]
  },
  {
   "cell_type": "markdown",
   "metadata": {},
   "source": [
    "## Plotting Parameter"
   ]
  },
  {
   "cell_type": "code",
   "execution_count": null,
   "metadata": {},
   "outputs": [],
   "source": [
    "roi_all = ['dmn','pt','eac']\n",
    "model = 'multi_srm'\n",
    "max_accu = [0.23,0.25,0.25]\n",
    "loo_ds = [0,3,1]\n",
    "other_ds = [[1,3],[1,0],[0,3]] # length must be 2"
   ]
  },
  {
   "cell_type": "markdown",
   "metadata": {},
   "source": [
    "## Aggregate Accuracy"
   ]
  },
  {
   "cell_type": "code",
   "execution_count": null,
   "metadata": {},
   "outputs": [],
   "source": [
    "# Accuracies\n",
    "all_mean = [] # length # of roi\n",
    "all_se = [] # length # of roi\n",
    "# aggregate each roi\n",
    "for roi in roi_all:\n",
    "    roi_mean = []\n",
    "    roi_se = []\n",
    "    for loo,other in zip(loo_ds,other_ds):\n",
    "        ws=np.load(input_file.format(exp,roi,model,loo,other).replace(' ',''))\n",
    "        roi_mean.extend(list(ws['mean']))\n",
    "        roi_se.extend(list(ws['se']))\n",
    "    all_mean.append(roi_mean)\n",
    "    all_se.append(roi_se)\n",
    "# Process xtick labels\n",
    "lb1 = '$d_{}$\\n$d_{}$'\n",
    "lb2 = '$d_{}$\\n$d_{},d_{}$'\n",
    "xtick_name = []\n",
    "# Add primary,secondary label\n",
    "xtick_name.append('Prm.\\nSec.')\n",
    "for loo,other in zip(loo_ds,other_ds):\n",
    "    xtick_name.append(lb1.format(loo,other[0]).replace('3','2'))\n",
    "    xtick_name.append(lb2.format(loo,other[0],other[1]).replace('3','2'))"
   ]
  },
  {
   "cell_type": "markdown",
   "metadata": {},
   "source": [
    "## Plot all roi"
   ]
  },
  {
   "cell_type": "code",
   "execution_count": null,
   "metadata": {},
   "outputs": [],
   "source": [
    "width=1\n",
    "nmodel = 2 # train with one/two datasets\n",
    "ndata = len(loo_ds)\n",
    "group_width = 1.3*width*nmodel\n",
    "center_all = np.linspace(0,group_width*(ndata-1),ndata)\n",
    "# set colors\n",
    "color_all = ['dodgerblue','red']\n",
    "\n",
    "for m,roi in enumerate(roi_all):\n",
    "    xtick_idx = []\n",
    "    xtick_idx.append(center_all[0]-0.5*width-0.1)\n",
    "    plt.figure()\n",
    "    # configure bars\n",
    "    for i,center in enumerate(center_all):\n",
    "        mean = list(all_mean[m][i*nmodel:(i+1)*nmodel])\n",
    "        se   = list(all_se[m][i*nmodel:(i+1)*nmodel])    \n",
    "        idx = np.arange(center,center+nmodel*width,width)\n",
    "        error_config = {'ecolor': '0','capsize':3}   \n",
    "        rects = plt.bar(idx, mean, yerr=se, align='center', error_kw=error_config, width = width-0.1)\n",
    "        # set colors\n",
    "        for rect_i in range(len(rects)):\n",
    "            rects[rect_i].set_color(color_all[rect_i])\n",
    "        autolabel(rects, se)\n",
    "        xtick_idx.extend(idx)                             \n",
    "    plt.xticks(xtick_idx,xtick_name)\n",
    "    \n",
    "    plt.ylabel('Accuracy')\n",
    "    left_lim = center_all[0]-0.5*width-0.1\n",
    "    right_lim = center_all[-1]+(nmodel-0.5)*width+0.15\n",
    "    plt.xlim([left_lim,right_lim])\n",
    "    plt.ylim([0,max_accu[m]])\n",
    "\n",
    "    # plot chance accuracy of each dataset\n",
    "    for d,center in enumerate(center_all):\n",
    "        cl = cl_dict[loo_ds[d]]\n",
    "        line = plt.plot([center-0.5*width, center+(nmodel-0.5)*width], [cl, cl], 'k-.', linewidth=2)\n",
    "       \n",
    "    # Add texts\n",
    "    plt.text((right_lim+left_lim)/2, 1.23*max_accu[m], exp_label+' (ROI: '+roi.upper()+')',fontsize=13,horizontalalignment='center', verticalalignment='bottom')\n",
    "    props = dict(boxstyle='round', facecolor='wheat', alpha=0.5)\n",
    "#     plt.text((right_lim+left_lim)/2, 0.94*max_accu, 'k = '+str(feat_dict[model][roi_dict[roi]]),bbox=props,fontsize=12,horizontalalignment='center', verticalalignment='top')\n",
    "    plt.text(left_lim+0.34*(right_lim-left_lim), 0.75*max_accu[m], 'k = '+str(feat_dict[model][roi_dict[roi]]),bbox=props,fontsize=11,horizontalalignment='center', verticalalignment='top')\n",
    "    props2 = dict(boxstyle='square', facecolor='ivory',alpha=0.5)\n",
    "#     ds_text = '$d_0$:GreenEyes\\n$d_1$:Milky\\n$d_2$:Sherlock'\n",
    "#     plt.text(left_lim+0.13,0.95*max_accu,ds_text,bbox=props2,fontsize=11,horizontalalignment='left', verticalalignment='top')\n",
    "    ds_text = '$d_0$:GreenEyes        $d_1$:Milky      $d_2$:Sherlock'\n",
    "    plt.text(left_lim+0.12,0.96*max_accu[m],ds_text,bbox=props2,fontsize=11,horizontalalignment='left', verticalalignment='top')\n",
    "\n",
    "    # legend\n",
    "    legend_handle = []\n",
    "    for patch_i in range(2):\n",
    "        legend_handle.append(mpatches.Patch(color=color_all[patch_i], label=lg_lb[patch_i]))    \n",
    "    l1 = plt.legend(handles=legend_handle,bbox_to_anchor=(0.,1.02,1.,.102), loc=3,ncol=2,mode=\"expand\", borderaxespad=0.)\n",
    "    ax = plt.gca().add_artist(l1)\n",
    "#     plt.legend(line ,['chance'],bbox_to_anchor=(0.,1.005,1.008,.03),loc=1,ncol=1)\n",
    "    plt.legend(line ,['chance'],bbox_to_anchor=(0.,.83,1.045,0.),loc=9,ncol=1)\n",
    "     \n",
    "#     plt.savefig(output_file.format(exp,model,roi)+'.eps', format='eps', dpi=200,bbox_inches='tight')\n",
    "    plt.savefig(output_file.format(exp,model,roi)+'.pdf', format='pdf', dpi=200,bbox_inches='tight')"
   ]
  },
  {
   "cell_type": "code",
   "execution_count": null,
   "metadata": {},
   "outputs": [],
   "source": []
  }
 ],
 "metadata": {
  "kernelspec": {
   "display_name": "Python 3",
   "language": "python",
   "name": "python3"
  },
  "language_info": {
   "codemirror_mode": {
    "name": "ipython",
    "version": 3
   },
   "file_extension": ".py",
   "mimetype": "text/x-python",
   "name": "python",
   "nbconvert_exporter": "python",
   "pygments_lexer": "ipython3",
   "version": "3.6.0"
  }
 },
 "nbformat": 4,
 "nbformat_minor": 0
}
