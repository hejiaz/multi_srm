{
 "cells": [
  {
   "cell_type": "code",
   "execution_count": null,
   "metadata": {},
   "outputs": [],
   "source": [
    "import pprint\n",
    "import argparse\n",
    "import sys\n",
    "import numpy as np\n",
    "import matplotlib.pyplot as plt\n",
    "from scipy import stats\n",
    "import math\n",
    "import pickle\n",
    "import os"
   ]
  },
  {
   "cell_type": "code",
   "execution_count": null,
   "metadata": {},
   "outputs": [],
   "source": [
    "path = '/Volumes/pohsuan/pHA/data/output/'\n",
    "#wsMNI = {'name': ['MNI'], 'all_mean': np.array(0.725), 'all_se': np.array(0.0659071316323)}\n",
    "\n",
    "ws0 = np.load(path+'bar_accuracy_greeneye_tom_noLR_thr15_5000vx_449TR_idvclas_svm_sharedall010thIter.npz')\n",
    "ws5 = np.load(path+'bar_accuracy_greeneye_tom_noLR_thr15_5000vx_449TR_idvclas_svm_sharedall510thIter.npz')\n",
    "ws10 = np.load(path+'bar_accuracy_greeneye_tom_noLR_thr15_5000vx_449TR_idvclas_svm_sharedall1010thIter.npz')\n",
    "ws25 = np.load(path+'bar_accuracy_greeneye_tom_noLR_thr15_5000vx_449TR_idvclas_svm_sharedall2510thIter.npz')\n",
    "ws50 = np.load(path+'bar_accuracy_greeneye_tom_noLR_thr15_5000vx_449TR_idvclas_svm_sharedall5010thIter.npz')\n",
    "ws75 = np.load(path+'bar_accuracy_greeneye_tom_noLR_thr15_5000vx_449TR_idvclas_svm_sharedall7510thIter.npz')\n",
    "ws100 = np.load(path+'bar_accuracy_greeneye_tom_noLR_thr15_5000vx_449TR_idvclas_svm_sharedall10010thIter.npz')\n",
    "#ws_all = [ws0,ws5,ws10,ws25,ws50,ws75,ws100]\n",
    "#ws_all = [ws0,ws5,ws10,ws50,ws100]\n",
    "ws_all = [ws5,ws10,ws50,ws100]"
   ]
  },
  {
   "cell_type": "code",
   "execution_count": null,
   "metadata": {},
   "outputs": [],
   "source": [
    "params = {\n",
    "   'axes.labelsize': 12,\n",
    "   'text.fontsize': 12,\n",
    "   'legend.fontsize': 8,\n",
    "   'xtick.labelsize': 12,\n",
    "   'ytick.labelsize': 12,\n",
    "   'text.usetex': False,\n",
    "   'figure.figsize': [12, 3] # instead of 4.5, 4.5\n",
    "   }\n",
    "mpl.rcParams.update(params)"
   ]
  },
  {
   "cell_type": "code",
   "execution_count": null,
   "metadata": {},
   "outputs": [],
   "source": [
    "def autolabel(rects):\n",
    "    # attach some text labels\n",
    "    for rect in rects:\n",
    "        height = rect.get_height()\n",
    "        plt.axes().text(rect.get_x()+rect.get_width()/2., height+0.05, '{:2.2f}'.format(float(height)).lstrip('0'),\n",
    "                ha='center', va='bottom',fontsize=8)\n",
    "def autolabel_2(rects):\n",
    "    # attach some text labels\n",
    "    for rect in rects:\n",
    "        height = rect.get_height()\n",
    "        plt.axes().text(rect.get_x()+rect.get_width()/2., height+0.07, '{:2.2f}'.format(float(height)).lstrip('0'),\n",
    "                ha='center', va='bottom',fontsize=8)\n",
    "\n",
    "error_config = {'ecolor': '0'}\n",
    "        \n",
    "width=1\n",
    "group_width = width*(len(ws0['name'])+1)\n",
    "plt.figure()\n",
    "center_all = np.linspace(0,group_width*(len(ws_all)-1),len(ws_all))\n",
    "center_all = np.insert(center_all,0,-2)\n",
    "xtick_idx = np.array([])\n",
    "xtick_name = np.array([])\n",
    "\n",
    "rect_none = plt.bar(center_all[0], 0.725, yerr=0.0659071316323, align='center', error_kw=error_config, width =  width-0.1)\n",
    "rect_none[0].set_color('gold')\n",
    "autolabel_2(rect_none)\n",
    "\n",
    "for ws,center in zip(ws_all,center_all[1:]):\n",
    "    \n",
    "    idx = np.arange(center,center+len(ws['name'])*width,width)\n",
    "    print idx\n",
    "    error_config = {'ecolor': '0'}\n",
    "    rects = plt.bar(idx, ws['all_mean'], yerr=ws['all_se'], align='center', error_kw=error_config, width =  width-0.1)\n",
    "    if not 'MNI' in ws['name']:\n",
    "        rects[0].set_color('lightcoral')\n",
    "        rects[1].set_color('red')\n",
    "        rects[2].set_color('darkred')\n",
    "        rects[3].set_color('lightgreen')    \n",
    "        rects[4].set_color('green')\n",
    "        rects[5].set_color('darkgreen')\n",
    "        rects[6].set_color('lightblue')\n",
    "        rects[7].set_color('blue')\n",
    "        rects[8].set_color('darkblue')\n",
    "    else:\n",
    "        rects[0].set_color('c')\n",
    "    autolabel(rects)\n",
    "    xtick_idx = np.concatenate((xtick_idx,idx))\n",
    "    xtick_name = np.concatenate((xtick_name,ws['name']))\n",
    "\n",
    "    \n",
    "\n",
    "xtick_loc = center_all[1:]+4\n",
    "xtick_loc = np.insert(xtick_loc,0,center_all[0])\n",
    "plt.xticks(xtick_loc,['orig. data', '$k_1=5$','$k_1=10$','$k_1=50$', '$k_1=100$'])\n",
    "\n",
    "plt.ylabel('Accuracy')\n",
    "plt.xlim([-2.5,group_width*(len(ws_all))-1.5])\n",
    "plt.ylim([0.4,1])\n",
    "line = plt.plot([-2, 50], [0.5, 0.5], 'k-.', linewidth=2)#,transform=plt.axes().transAxes)    \n",
    "ax = plt.axes()\n",
    "opt = {'head_width': 0.025, 'head_length': 0.025, 'width': 0.001,'length_includes_head': False}\n",
    "l1 = plt.legend( rects ,['SRM $k_2=50$','SRM $k_2=100$','SRM $k_2=200$',\n",
    "                         'PCA $k_2=50$','PCA $k_2=100$','PCA $k_2=200$',\n",
    "                         'ICA $k_2=50$','ICA $k_2=100$','ICA $k_2=200$'],loc=(0.628,0.74),ncol=3,fontsize=8)\n",
    "l2 = plt.legend( line ,['chance'],loc=(0.536,0.9),ncol=1,fontsize=8)\n",
    "l3 = plt.legend( rect_none ,['original data'],loc=(0.504,0.8),ncol=1,fontsize=8)\n",
    "gca().add_artist(l1)\n",
    "gca().add_artist(l2)\n",
    "\n",
    "plt.text(0.01, .91, 'Group Classification', horizontalalignment='left', verticalalignment='bottom',transform=plt.axes().transAxes,fontsize=12)\n",
    "plt.text(0.01, .82, 'Dataset: audio', horizontalalignment='left', verticalalignment='bottom',transform=plt.axes().transAxes,fontsize=12)\n",
    "plt.text(0.01, .725, 'ROI: DMN', horizontalalignment='left', verticalalignment='bottom',transform=plt.axes().transAxes,fontsize=12)\n",
    "plt.savefig('/Users/ChimatChen/Dropbox/Cameron_Po-Hsuan_Chen/2015NIPS/figures/idvclas.eps', format='eps', dpi=500,bbox_inches='tight')"
   ]
  },
  {
   "cell_type": "markdown",
   "metadata": {},
   "source": [
    "##### Line plot"
   ]
  },
  {
   "cell_type": "code",
   "execution_count": null,
   "metadata": {},
   "outputs": [],
   "source": [
    "all_mean = np.zeros((ws_all[0]['name'].shape[0],len(ws_all)))\n",
    "all_se = np.zeros((ws_all[0]['name'].shape[0],len(ws_all)))\n",
    "for i,ws in enumerate(ws_all):\n",
    "    all_mean[:,i] = ws['all_mean']\n",
    "    all_se[:,i] = ws['all_se']"
   ]
  },
  {
   "cell_type": "code",
   "execution_count": null,
   "metadata": {},
   "outputs": [],
   "source": [
    "idx = np.array([0,5,10,25,50,75,100])\n",
    "fig = plt.figure()\n",
    "ax = fig.add_subplot(111)\n",
    "color_list = ['lightcoral','red','darkred','lightgreen','green','darkgreen','lightblue','blue','darkblue']\n",
    "marker_list = ['x','x','x','o','o','o','+','+','+']\n",
    "lines = []\n",
    "for i in range(all_mean.shape[0]):\n",
    "    line = plt.errorbar (idx,all_mean[i,:],all_se[i,:], color=color_list[i], marker = marker_list[i],linewidth=2.0)\n",
    "    lines.append(line)\n",
    "#ax.legend(lines, ncol=3)\n",
    "#ax.set_xscale('log')"
   ]
  }
 ],
 "metadata": {
  "kernelspec": {
   "display_name": "Python 3",
   "language": "python",
   "name": "python3"
  },
  "language_info": {
   "codemirror_mode": {
    "name": "ipython",
    "version": 3
   },
   "file_extension": ".py",
   "mimetype": "text/x-python",
   "name": "python",
   "nbconvert_exporter": "python",
   "pygments_lexer": "ipython3",
   "version": "3.6.0"
  }
 },
 "nbformat": 4,
 "nbformat_minor": 0
}
