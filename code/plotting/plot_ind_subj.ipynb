{
 "cells": [
  {
   "cell_type": "code",
   "execution_count": null,
   "metadata": {},
   "outputs": [],
   "source": [
    "import matplotlib.patches as mpatches\n",
    "import numpy as np\n",
    "import os\n",
    "import math\n",
    "import matplotlib.pyplot as plt\n",
    "%matplotlib inline  "
   ]
  },
  {
   "cell_type": "code",
   "execution_count": null,
   "metadata": {},
   "outputs": [],
   "source": [
    "params = {\n",
    "   'axes.labelsize': 12,\n",
    "   'font.size': 10,\n",
    "   'legend.fontsize': 11,\n",
    "   'xtick.labelsize': 10,\n",
    "   'ytick.labelsize': 12,\n",
    "   'text.usetex': False,\n",
    "   'figure.figsize': [10, 2] # instead of 4.5, 4.5\n",
    "   }\n",
    "plt.rcParams.update(params)"
   ]
  },
  {
   "cell_type": "markdown",
   "metadata": {},
   "source": [
    "## Fixed Parameter"
   ]
  },
  {
   "cell_type": "code",
   "execution_count": null,
   "metadata": {},
   "outputs": [],
   "source": [
    "# experiment\n",
    "exp = 'dist_subj'\n",
    "exp_label = 'Adding Independent Subjects'\n",
    "roi_all = ['dmn']\n",
    "model = 'multi_srm'\n",
    "\n",
    "# dictionaries\n",
    "cl_dict = {0:1/450,1:1/297,2:1/297,3:1/1973} # chance level of each dataset\n",
    "feat_dict = {'multi_srm':[75,75,100],'multi_dict':[25,50,50],'avg':[50,50,50]}\n",
    "roi_dict = {'dmn':0,'pt':1,'eac':2}\n",
    "# change multi_srm name!\n",
    "md_dict = {'avg':'MNI','multi_srm':'MDSRM','multi_dict':'MDDict'}\n",
    "ds_dict = {0:'GreenEyes',1:'Milky',2:'Vodka',3:'Sherlock'}\n",
    "\n",
    "# paths\n",
    "input_file = '../../output/accu_bar/{}/{}/{}_ds{}_shared{}.npz' #exp,roi,model,ds,shared\n",
    "output_path = '../../output/figures/{}/' #exp\n",
    "output_file = output_path+'{}_{}_{}' #model,roi,ds\n",
    "if not os.path.exists(output_path.format(exp)):\n",
    "    os.makedirs(output_path.format(exp))"
   ]
  },
  {
   "cell_type": "markdown",
   "metadata": {},
   "source": [
    "## Plotting Parameter"
   ]
  },
  {
   "cell_type": "code",
   "execution_count": null,
   "metadata": {},
   "outputs": [],
   "source": [
    "ds = [1,3]\n",
    "shared = [1]\n",
    "min_accu = 0.115\n",
    "max_accu = 0.137"
   ]
  },
  {
   "cell_type": "markdown",
   "metadata": {},
   "source": [
    "## Aggregate Accuracy"
   ]
  },
  {
   "cell_type": "code",
   "execution_count": null,
   "metadata": {},
   "outputs": [],
   "source": [
    "# Accuracies\n",
    "all_mean = [] # length # of roi\n",
    "all_se = [] # length # of roi\n",
    "# aggregate each roi\n",
    "for roi in roi_all:\n",
    "    roi_mean = []\n",
    "    roi_se = []\n",
    "    # aggregate each number of shared subjects\n",
    "    for sd in shared:\n",
    "        ws=np.load(input_file.format(exp,roi,model,ds,sd).replace(' ',''))\n",
    "        roi_mean.append(ws['mean'])\n",
    "        roi_se.append(ws['se'])\n",
    "    all_mean.append(roi_mean)\n",
    "    all_se.append(roi_se)"
   ]
  },
  {
   "cell_type": "markdown",
   "metadata": {},
   "source": [
    "## Plot all roi (line plot)"
   ]
  },
  {
   "cell_type": "code",
   "execution_count": null,
   "metadata": {},
   "outputs": [],
   "source": [
    "color = 'red'\n",
    "for m,roi in enumerate(roi_all):\n",
    "    num_subj = all_mean[0][0].shape[0]\n",
    "    idx = np.array(list(range(num_subj)),dtype=np.int32)\n",
    "    plt.figure()\n",
    "#     color_list = ['lightcoral','red','darkred','lightgreen','green','darkgreen','lightblue','blue','darkblue']\n",
    "#     marker_list = ['x','x','x','o','o','o','+','+','+']\n",
    "    lines = []\n",
    "    for r,sd in enumerate(shared):\n",
    "        mean = all_mean[m][r]\n",
    "        se = all_se[m][r]        \n",
    "        line = plt.errorbar (idx,mean,se, color=color,capsize=3, ecolor='k',linewidth=2.0) \n",
    "#         line = plt.errorbar (idx,mean,se, color=color_list[r],marker = marker_list[r],capsize=3, ecolor='k',linewidth=2.0,label=sd) \n",
    "        lines.append(line)\n",
    "        \n",
    "    left_lim = -0.5\n",
    "    right_lim = num_subj-0.5\n",
    "    plt.xlim([left_lim,right_lim])\n",
    "    plt.ylabel('Accuracy')\n",
    "    plt.xlabel('Number of independent subjects')\n",
    "    plt.ylim([min_accu,max_accu])\n",
    "    plt.xticks(idx,idx+1)\n",
    "\n",
    "    # plot chance accuracy\n",
    "    cl = cl_dict[ds[0]]\n",
    "    line = plt.plot([left_lim, right_lim], [cl, cl], 'k-.', linewidth=2)\n",
    "\n",
    "    \n",
    "\n",
    "    # Add texts\n",
    "    plt.text((right_lim+left_lim)/2, 1.01*(max_accu-min_accu)+min_accu, exp_label+', ROI: '+roi.upper(),fontsize=12,horizontalalignment='center', verticalalignment='bottom')\n",
    "    props = dict(boxstyle='round', facecolor='wheat', alpha=0.5)\n",
    "    plt.text((right_lim+left_lim)/2, 0.95*(max_accu-min_accu)+min_accu, 'k = '+str(feat_dict[model][roi_dict[roi]]),bbox=props,fontsize=12,horizontalalignment='right', verticalalignment='top')\n",
    "    props2 = dict(boxstyle='square', facecolor='ivory',alpha=0.5)\n",
    "    ds_text = 'Test:'+ds_dict[ds[0]]+'\\nAdd:'+ds_dict[ds[1]]\n",
    "    sd_text = '# Shared Subjects: '+str(shared[0])\n",
    "    plt.text(left_lim+0.01*num_subj,0.95*(max_accu-min_accu)+min_accu,ds_text,bbox=props2,fontsize=12,horizontalalignment='left', verticalalignment='top')\n",
    "    plt.text(left_lim+0.99*(right_lim-left_lim),0.95*(max_accu-min_accu)+min_accu,sd_text,bbox=props2,fontsize=12,horizontalalignment='right', verticalalignment='top')\n",
    "\n",
    "\n",
    "#     plt.savefig(output_file.format(exp,roi,model,ds).replace(' ','')+'.eps', format='eps', dpi=200,bbox_inches='tight')\n",
    "    plt.savefig(output_file.format(exp,roi,model,ds).replace(' ','')+'.pdf', format='pdf', dpi=200,bbox_inches='tight')"
   ]
  },
  {
   "cell_type": "code",
   "execution_count": null,
   "metadata": {},
   "outputs": [],
   "source": []
  }
 ],
 "metadata": {
  "kernelspec": {
   "display_name": "Python 3",
   "language": "python",
   "name": "python3"
  },
  "language_info": {
   "codemirror_mode": {
    "name": "ipython",
    "version": 3
   },
   "file_extension": ".py",
   "mimetype": "text/x-python",
   "name": "python",
   "nbconvert_exporter": "python",
   "pygments_lexer": "ipython3",
   "version": "3.6.0"
  }
 },
 "nbformat": 4,
 "nbformat_minor": 0
}
