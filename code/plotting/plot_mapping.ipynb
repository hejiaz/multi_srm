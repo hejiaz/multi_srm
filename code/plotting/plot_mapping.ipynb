{
 "cells": [
  {
   "cell_type": "code",
   "execution_count": null,
   "metadata": {},
   "outputs": [],
   "source": [
    "import matplotlib.patches as mpatches\n",
    "import numpy as np\n",
    "import os\n",
    "import math\n",
    "import matplotlib.pyplot as plt\n",
    "%matplotlib inline  "
   ]
  },
  {
   "cell_type": "code",
   "execution_count": null,
   "metadata": {},
   "outputs": [],
   "source": [
    "params = {\n",
    "   'axes.labelsize': 12,\n",
    "   'font.size': 10,\n",
    "   'legend.fontsize': 10,\n",
    "   'xtick.labelsize': 8,\n",
    "   'ytick.labelsize': 12,\n",
    "   'text.usetex': False,\n",
    "   'figure.figsize': [6, 2] # instead of 4.5, 4.5\n",
    "   }\n",
    "plt.rcParams.update(params)"
   ]
  },
  {
   "cell_type": "markdown",
   "metadata": {},
   "source": [
    "## helper function"
   ]
  },
  {
   "cell_type": "code",
   "execution_count": null,
   "metadata": {},
   "outputs": [],
   "source": [
    "def autolabel(rects, ses):\n",
    "    # attach some text labels\n",
    "    for rect, se in zip(rects, ses):\n",
    "        height = rect.get_height()\n",
    "        plt.axes().text(rect.get_x()+rect.get_width()/2., height+1.03*se, '{:2.3f}'.format(float(height)).lstrip('0'),\n",
    "                ha='center', va='bottom',fontsize=9.5)"
   ]
  },
  {
   "cell_type": "markdown",
   "metadata": {},
   "source": [
    "## Fixed Parameter"
   ]
  },
  {
   "cell_type": "code",
   "execution_count": null,
   "metadata": {},
   "outputs": [],
   "source": [
    "# experiment\n",
    "exp_label = 'fMRI to Text Mapping'\n",
    "\n",
    "# dictionaries\n",
    "cl_dict = {'class':{0:1/7,1:1/4,2:1/4,3:1/25},'rank':{0:1/2,1:1/2,2:1/2,3:1/2}} # chance level of each dataset\n",
    "feat_dict = {'multi_srm':[75,150,75],'multi_dict':[75,50,50],'indv_srm':[75,50,75],'indv_ica':[50,50,25],\\\n",
    " 'indv_gica':[50,50,50],'indv_dict':[50,25,50],'avg':[50,50,50]}\n",
    "roi_dict = {'dmn':0,'pt':1,'eac':2}\n",
    "md_dict = {'avg':'MNI','multi_srm':'MDMS','ica':'ICA','indv_gica':'GICA','indv_dict':'DL','indv_srm':'SRM','multi_dict':'MDDL'}\n",
    "ds_dict = {0:'GreenEyes',1:'Milky',2:'Vodka',3:'Sherlock'}\n",
    "actp_dict = {'class':'Classification Accuracy','rank':'Ranking Accuracy'}\n",
    "lg_dc = ['Prm.','Prm.+Sec.']\n",
    "# lg_dc = ['Train separately','Train jointly']\n",
    "\n",
    "# path\n",
    "input_file = '../../output/accu_bar/{}/{}/{}/{}_ds{}.npz' #exp,total_ds,roi,model,ds\n",
    "output_path = '../../output/figures/{}/' #exp\n",
    "output_file = output_path+'{}_{}_ds{}' #roi,accu_type,ds"
   ]
  },
  {
   "cell_type": "markdown",
   "metadata": {},
   "source": [
    "## Plotting Parameter"
   ]
  },
  {
   "cell_type": "code",
   "execution_count": null,
   "metadata": {},
   "outputs": [],
   "source": [
    "exp = 'mapping'\n",
    "total_ds = list(range(12))\n",
    "max_accu_all = [[0.75,0.61,0.54],[1.5,1.5,1.5]] #accuracy for classification and ranking plots\n",
    "datasets = [0,3]\n",
    "# max_accu_all = [0.8,1.2]\n",
    "# datasets = [1,2]\n",
    "\n",
    "model_all = ['avg','indv_gica','indv_dict','indv_srm','multi_dict','multi_srm']\n",
    "roi_all = ['dmn','pt','eac']\n",
    "accu_type = ['class','rank']\n",
    "\n",
    "if not os.path.exists(output_path.format(exp,total_ds).replace(' ','')):\n",
    "    os.makedirs(output_path.format(exp,total_ds).replace(' ',''))\n",
    "\n",
    "if len(datasets)==1:\n",
    "    params['figure.figsize'] = [5.5, 2]\n",
    "    plt.rcParams.update(params)"
   ]
  },
  {
   "cell_type": "markdown",
   "metadata": {},
   "source": [
    "## Aggregate Accuracies"
   ]
  },
  {
   "cell_type": "code",
   "execution_count": null,
   "metadata": {},
   "outputs": [],
   "source": [
    "all_mean = [] # length # of roi\n",
    "all_se = [] # length # of roi\n",
    "# aggregate each roi,each type\n",
    "for roi in roi_all:\n",
    "    roi_mean = []\n",
    "    roi_se = []\n",
    "    for ac_tp in accu_type:\n",
    "        roi_mean.append([])\n",
    "        roi_se.append([])\n",
    "    for ds in datasets:\n",
    "        for model in model_all: \n",
    "            ws=np.load(input_file.format(exp,total_ds,roi,model,ds).replace(' ',''))\n",
    "            for r,ac_tp in enumerate(accu_type):\n",
    "                roi_mean[r].append(ws[ac_tp+'_mean'].item())\n",
    "                roi_se[r].append(ws[ac_tp+'_se'].item())\n",
    "    all_mean.append(roi_mean)\n",
    "    all_se.append(roi_se)"
   ]
  },
  {
   "cell_type": "markdown",
   "metadata": {},
   "source": [
    "## Plot all roi"
   ]
  },
  {
   "cell_type": "code",
   "execution_count": null,
   "metadata": {},
   "outputs": [],
   "source": [
    "width=1\n",
    "nmodel = len(model_all) # number of models\n",
    "ndata = len(datasets)\n",
    "group_width = 1.1*width*nmodel+0.4*width\n",
    "center_all = np.linspace(0,group_width*(ndata-1),ndata)\n",
    "# set colors\n",
    "color_all = ['lightgrey','mediumseagreen','dodgerblue','mediumorchid','gold','red']\n",
    "pattern = ['///',' ']\n",
    "\n",
    "for m,roi in enumerate(roi_all):\n",
    "    for r,ac_tp,max_accu in zip(range(len(accu_type)),accu_type,max_accu_all):\n",
    "        # xtick \n",
    "        xtick_idx = []\n",
    "        xtick_name = [] \n",
    "        xtick_idx.append(center_all[0]-0.5*width-0.8)\n",
    "        xtick_name.append('model\\nk')\n",
    "        # dataset names\n",
    "        ds_idx = []\n",
    "        ds_name = []\n",
    "        plt.figure()\n",
    "        # configure bars\n",
    "        for i,(ds, center) in enumerate(zip(datasets,center_all)):\n",
    "            mean = list(all_mean[m][r][i*nmodel:(i+1)*nmodel])\n",
    "            se   = list(all_se[m][r][i*nmodel:(i+1)*nmodel])    \n",
    "            idx = np.concatenate(((center-0.15*width)[None],np.arange(center+width,center+nmodel*width-2.2*width,width),\\\n",
    "                              (center+nmodel*width-1.85*width)[None],(center+nmodel*width-0.8*width)[None]))\n",
    "            error_config = {'ecolor': '0','capsize':3}   \n",
    "            rects = plt.bar(idx, mean, yerr=se, align='center', error_kw=error_config, width = width-0.1)\n",
    "            # set colors\n",
    "            for rect_i in range(len(rects)):\n",
    "                rects[rect_i].set_color(color_all[rect_i])\n",
    "            # add patterns\n",
    "            for rect_i in range(1,len(rects)-2):\n",
    "                rects[rect_i].set_hatch(pattern[0])\n",
    "            autolabel(rects,se) \n",
    "            ds_idx.append(center+(nmodel-2)*width/2) \n",
    "            ds_name.append(ds_dict[ds])\n",
    "            # xtick names\n",
    "            xtick_idx.extend(idx)\n",
    "            for model in model_all:\n",
    "                feat = str(feat_dict[model][roi_dict[roi]])\n",
    "                if model == 'avg':\n",
    "                    xtick_name.append(md_dict[model]+'\\n ')\n",
    "                else:\n",
    "                    xtick_name.append(md_dict[model]+'\\n'+feat)\n",
    "                    \n",
    "#         plt.xticks(rotation=15,ha='center')\n",
    "        plt.xticks(xtick_idx,xtick_name)\n",
    "        plt.yticks(np.arange(0, max_accu[m]+0.001, 0.2))\n",
    "        plt.ylabel('Accuracy')\n",
    "        left_lim = center_all[0]-0.5*width-0.8\n",
    "        right_lim = center_all[-1]+(nmodel-0.5)*width+0.5\n",
    "        plt.xlim([left_lim,right_lim])\n",
    "        plt.ylim([0,max_accu[m]])\n",
    "\n",
    "        # plot chance accuracy of each dataset\n",
    "        for d,center in enumerate(center_all):\n",
    "            cl = cl_dict[ac_tp][datasets[d]]\n",
    "            line = plt.plot([center-width, center+(nmodel)*width], [cl, cl], 'k-.', linewidth=2)\n",
    "\n",
    "        # Add texts\n",
    "        title_height = 1.4*max_accu[m]\n",
    "#         plt.text((right_lim+left_lim)/2, title_height, actp_dict[ac_tp]+' for '+exp_label+' (ROI: '+roi.upper()+')',fontsize=11,horizontalalignment='center', verticalalignment='bottom')\n",
    "        plt.text((right_lim+left_lim)/2, title_height, exp_label+' (ROI: '+roi.upper()+')',fontsize=13,horizontalalignment='center', verticalalignment='bottom')\n",
    "        props = dict(boxstyle='round', facecolor='wheat', alpha=0.5)\n",
    "        for d in range(len(datasets)):\n",
    "            plt.text(ds_idx[d],0.96*max_accu[m],'Prm.: '+ds_name[d],bbox=props,fontsize=11,horizontalalignment='center', verticalalignment='top')\n",
    "\n",
    "        # legend\n",
    "        legend_handle = []\n",
    "        for patch_i in range(len(model_all)):\n",
    "            legend_handle.append(mpatches.Patch(color=color_all[patch_i], label=md_dict[model_all[patch_i]]))\n",
    "        if len(datasets)==1:\n",
    "            l1 = plt.legend(handles=legend_handle,bbox_to_anchor=(0.,1.02,1.,.102),loc=3,ncol=int(len(model_all)/2)+1,mode=\"expand\", borderaxespad=0.)\n",
    "        else:\n",
    "            l1 = plt.legend(handles=legend_handle,bbox_to_anchor=(0.,1.02,1.,.102),loc=3,ncol=len(model_all),mode=\"expand\", borderaxespad=0.)\n",
    "        ax = plt.gca().add_artist(l1)\n",
    "        l2 = plt.legend(line ,['chance'],bbox_to_anchor=(0.,1.42,1.015,0.),loc=1,ncol=1)\n",
    "        ax = plt.gca().add_artist(l2)\n",
    "        legend_handle2 = []\n",
    "        for patch_i in range(2):\n",
    "            legend_handle2.append(mpatches.Patch(hatch=pattern[patch_i], color='beige',label=lg_dc[patch_i]))\n",
    "        ax = plt.gca().add_artist(l2)\n",
    "        plt.legend(handles=legend_handle2,bbox_to_anchor=(-0.015,1.42,1.005,0.),loc=2,ncol=2)\n",
    "\n",
    "                \n",
    "    #     plt.savefig(output_file.format(exp,roi,ac_tp,datasets).replace(' ','')+'.eps', format='eps', dpi=200,bbox_inches='tight')\n",
    "        plt.savefig(output_file.format(exp,roi,ac_tp,datasets).replace(' ','')+'.pdf', format='pdf', dpi=200,bbox_inches='tight')"
   ]
  },
  {
   "cell_type": "code",
   "execution_count": null,
   "metadata": {},
   "outputs": [],
   "source": []
  }
 ],
 "metadata": {
  "kernelspec": {
   "display_name": "Python 3",
   "language": "python",
   "name": "python3"
  },
  "language_info": {
   "codemirror_mode": {
    "name": "ipython",
    "version": 3
   },
   "file_extension": ".py",
   "mimetype": "text/x-python",
   "name": "python",
   "nbconvert_exporter": "python",
   "pygments_lexer": "ipython3",
   "version": "3.6.0"
  }
 },
 "nbformat": 4,
 "nbformat_minor": 0
}
