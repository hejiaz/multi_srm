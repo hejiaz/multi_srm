{
 "cells": [
  {
   "cell_type": "code",
   "execution_count": null,
   "metadata": {},
   "outputs": [],
   "source": [
    "import matplotlib.patches as mpatches\n",
    "import numpy as np\n",
    "import os\n",
    "import math\n",
    "import matplotlib.pyplot as plt\n",
    "%matplotlib inline  "
   ]
  },
  {
   "cell_type": "code",
   "execution_count": null,
   "metadata": {},
   "outputs": [],
   "source": [
    "params = {\n",
    "   'axes.labelsize': 12,\n",
    "   'font.size': 10,\n",
    "   'legend.fontsize': 11,\n",
    "   'xtick.labelsize': 10,\n",
    "   'ytick.labelsize': 12,\n",
    "   'text.usetex': False,\n",
    "   'figure.figsize': [10, 2] # instead of 4.5, 4.5\n",
    "   }\n",
    "plt.rcParams.update(params)"
   ]
  },
  {
   "cell_type": "markdown",
   "metadata": {},
   "source": [
    "## helper function"
   ]
  },
  {
   "cell_type": "code",
   "execution_count": null,
   "metadata": {},
   "outputs": [],
   "source": [
    "def autolabel(rects, ses):\n",
    "    # attach some text labels\n",
    "    for rect, se in zip(rects, ses):\n",
    "        height = rect.get_height()\n",
    "        plt.axes().text(rect.get_x()+rect.get_width()/2., height+1.03*se, '{:2.3f}'.format(float(height)).lstrip('0'),\n",
    "                ha='center', va='bottom',fontsize=10)"
   ]
  },
  {
   "cell_type": "markdown",
   "metadata": {},
   "source": [
    "## Fixed Parameter"
   ]
  },
  {
   "cell_type": "code",
   "execution_count": null,
   "metadata": {},
   "outputs": [],
   "source": [
    "# experiment\n",
    "exp= 'different_TR'\n",
    "exp_label = 'Time Segment Matching using Different Number of TRs'\n",
    "model = 'multi_srm'\n",
    "portion = [0.2,0.4,0.6,0.8]\n",
    "port_name = ['$20$','$40$','$60$','$80$','$100$']\n",
    "\n",
    "# dictionaries\n",
    "cl_dict = {0:1/225,1:2/297,2:2/297,3:2/1973} # chance level of each dataset\n",
    "feat_dict = {'multi_srm':[75,75,100]}\n",
    "roi_dict = {'dmn':0,'pt':1,'eac':2}\n",
    "# change multi_srm name!\n",
    "ds_dict = {0:'GreenEyes',1:'Milky',2:'Vodka',3:'Sherlock'}\n",
    "\n",
    "# paths \n",
    "input_full = '../../output/accu_bar/mysseg_all/{}/{}_ds{}.npz' #roi,model,ds\n",
    "input_file = '../../output/accu_bar/{}/{}/{}_ds{}_port{}.npz' #exp,roi,model,ds,port\n",
    "output_path = '../../output/figures/{}/' #exp\n",
    "if not os.path.exists(output_path.format(exp)):\n",
    "    os.makedirs(output_path.format(exp))\n",
    "output_file = output_path+'{}_ds{}' #roi,ds"
   ]
  },
  {
   "cell_type": "markdown",
   "metadata": {},
   "source": [
    "## Plotting Parameter"
   ]
  },
  {
   "cell_type": "code",
   "execution_count": null,
   "metadata": {},
   "outputs": [],
   "source": [
    "roi_all = ['dmn','pt','eac']\n",
    "max_accu = 0.75\n",
    "datasets = [0,3,2,1]"
   ]
  },
  {
   "cell_type": "markdown",
   "metadata": {},
   "source": [
    "## Aggregate Accuracy"
   ]
  },
  {
   "cell_type": "code",
   "execution_count": null,
   "metadata": {},
   "outputs": [],
   "source": [
    "all_mean = [] # length # of roi\n",
    "all_se = [] # length # of roi\n",
    "# aggregate each roi\n",
    "for roi in roi_all:\n",
    "    roi_mean = []\n",
    "    roi_se = []\n",
    "    for ds in datasets:\n",
    "        # portion part\n",
    "        for port in portion:\n",
    "            ws=np.load(input_file.format(exp,roi,model,ds,port))\n",
    "            roi_mean.append(ws['mean'].item())\n",
    "            roi_se.append(ws['se'].item())\n",
    "        # full sec. datasets\n",
    "        ws = np.load(input_full.format(roi,model,ds))\n",
    "        roi_mean.append(ws['mean'].item())\n",
    "        roi_se.append(ws['se'].item())\n",
    "    all_mean.append(roi_mean)\n",
    "    all_se.append(roi_se)"
   ]
  },
  {
   "cell_type": "markdown",
   "metadata": {},
   "source": [
    "## Plot all roi"
   ]
  },
  {
   "cell_type": "code",
   "execution_count": null,
   "metadata": {},
   "outputs": [],
   "source": [
    "width=1\n",
    "nmodel = len(portion)+1\n",
    "ndata = len(datasets)\n",
    "group_width = 1.25*width*nmodel\n",
    "center_all = np.linspace(0,group_width*(ndata-1),ndata)\n",
    "# set colors\n",
    "color = 'dodgerblue'\n",
    "\n",
    "for m,roi in enumerate(roi_all):\n",
    "    ds_idx = []\n",
    "    ds_name = []\n",
    "    xtick_idx = []\n",
    "    xtick_name = []\n",
    "    plt.figure()\n",
    "    # configure bars\n",
    "    for i,(ds, center) in enumerate(zip(datasets,center_all)):\n",
    "        mean = list(all_mean[m][i*nmodel:(i+1)*nmodel])\n",
    "        se   = list(all_se[m][i*nmodel:(i+1)*nmodel])    \n",
    "        idx = np.arange(center,center+nmodel*width,width)\n",
    "        error_config = {'ecolor': '0','capsize':3}   \n",
    "        rects = plt.bar(idx, mean, yerr=se, align='center', error_kw=error_config, width = width-0.1)\n",
    "        # set colors\n",
    "        for rect_i in range(len(rects)):\n",
    "            rects[rect_i].set_color(color)\n",
    "        autolabel(rects, se)\n",
    "        ds_idx.append(center+(nmodel-1)*width/2)        \n",
    "        ds_name.append(ds_dict[ds]) \n",
    "        xtick_idx.extend(idx)\n",
    "        xtick_name.extend(port_name)\n",
    "    plt.xticks(xtick_idx,xtick_name)\n",
    "    \n",
    "    plt.ylabel('Accuracy')\n",
    "    plt.xlabel('Percentage of number of TRs used in sec. datasets')\n",
    "    left_lim = center_all[0]-0.5*width-0.5\n",
    "    right_lim = center_all[-1]+(nmodel-0.5)*width+0.5\n",
    "    plt.xlim([left_lim,right_lim])\n",
    "    plt.ylim([0,max_accu])\n",
    "\n",
    "    # plot chance accuracy of each dataset\n",
    "    for d,center in enumerate(center_all):\n",
    "        cl = cl_dict[datasets[d]]\n",
    "        line = plt.plot([center-width, center+(nmodel+1)*width], [cl, cl], 'k-.', linewidth=2)\n",
    "       \n",
    "    # Add texts\n",
    "    plt.text((right_lim+left_lim)/2, 1.02*max_accu, exp_label+' (ROI: '+roi.upper()+')',fontsize=12,horizontalalignment='center', verticalalignment='bottom')\n",
    "    props = dict(boxstyle='round', facecolor='wheat', alpha=0.5)\n",
    "    plt.text(left_lim+0.81*(right_lim-left_lim), 0.78*max_accu, 'k = '+str(feat_dict[model][roi_dict[roi]]),bbox=props,fontsize=11,horizontalalignment='center', verticalalignment='top')\n",
    "    for d in range(len(datasets)):\n",
    "        plt.text(ds_idx[d],0.95*max_accu,'Prm.: '+ds_name[d],bbox=props,fontsize=11,horizontalalignment='center', verticalalignment='top')\n",
    "    \n",
    "    # legend\n",
    "    plt.legend(line ,['chance'],bbox_to_anchor=(0.,.87,1.005,0.),loc=1,ncol=1)\n",
    "\n",
    "            \n",
    "#     plt.savefig(output_file.format(exp,roi,datasets).replace(' ','')+'.eps', format='eps', dpi=200,bbox_inches='tight')\n",
    "    plt.savefig(output_file.format(exp,roi,datasets).replace(' ','')+'.pdf', format='pdf', dpi=200,bbox_inches='tight')"
   ]
  },
  {
   "cell_type": "code",
   "execution_count": null,
   "metadata": {},
   "outputs": [],
   "source": []
  }
 ],
 "metadata": {
  "kernelspec": {
   "display_name": "Python 3",
   "language": "python",
   "name": "python3"
  },
  "language_info": {
   "codemirror_mode": {
    "name": "ipython",
    "version": 3
   },
   "file_extension": ".py",
   "mimetype": "text/x-python",
   "name": "python",
   "nbconvert_exporter": "python",
   "pygments_lexer": "ipython3",
   "version": "3.6.0"
  }
 },
 "nbformat": 4,
 "nbformat_minor": 0
}
